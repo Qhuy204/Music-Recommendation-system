{
 "cells": [
  {
   "cell_type": "code",
   "execution_count": 1,
   "id": "7a1d6154",
   "metadata": {
    "_cell_guid": "275442c8-40f2-461b-817a-ce38fdc44575",
    "_uuid": "d4353e91-3aad-465f-aae0-6846f1fec673",
    "collapsed": false,
    "execution": {
     "iopub.execute_input": "2025-01-08T12:59:01.712924Z",
     "iopub.status.busy": "2025-01-08T12:59:01.711915Z",
     "iopub.status.idle": "2025-01-08T12:59:07.560534Z",
     "shell.execute_reply": "2025-01-08T12:59:07.559743Z"
    },
    "id": "OsFR4ZaIcK3F",
    "jupyter": {
     "outputs_hidden": false
    },
    "papermill": {
     "duration": 5.861473,
     "end_time": "2025-01-08T12:59:07.562894",
     "exception": false,
     "start_time": "2025-01-08T12:59:01.701421",
     "status": "completed"
    },
    "tags": []
   },
   "outputs": [],
   "source": [
    "import pandas as pd\n",
    "import numpy as np\n",
    "import matplotlib.pyplot as plt\n",
    "plt.style.use('default')\n",
    "\n",
    "import os\n",
    "import tensorflow as tf\n",
    "import keras\n",
    "import cv2\n",
    "\n",
    "from sklearn.model_selection import train_test_split\n",
    "\n",
    "from tensorflow.keras.preprocessing.image import ImageDataGenerator, load_img, img_to_array\n",
    "from tensorflow.keras.callbacks import EarlyStopping, ModelCheckpoint, ReduceLROnPlateau\n",
    "from tensorflow.keras.utils import plot_model\n",
    "from tensorflow.keras import layers , models, optimizers\n",
    "\n",
    "from tensorflow.keras.models import Sequential, Model\n",
    "from tensorflow.keras.layers import *"
   ]
  },
  {
   "cell_type": "markdown",
   "id": "534cd0ae",
   "metadata": {
    "_cell_guid": "f0f53c04-182f-49a3-b449-e82ce032c7d1",
    "_uuid": "5284a48e-3848-4ccd-b182-a3b6b653f8d1",
    "collapsed": false,
    "id": "ZJEY6DRjcK3J",
    "jupyter": {
     "outputs_hidden": false
    },
    "papermill": {
     "duration": 0.006868,
     "end_time": "2025-01-08T12:59:07.577371",
     "exception": false,
     "start_time": "2025-01-08T12:59:07.570503",
     "status": "completed"
    },
    "tags": []
   },
   "source": [
    "# **Visualizing Classes**"
   ]
  },
  {
   "cell_type": "code",
   "execution_count": 2,
   "id": "e2a79a70",
   "metadata": {
    "_cell_guid": "3ab81eea-9e6f-497f-9ae7-7e7e673c3ffa",
    "_uuid": "d30a03d8-99c9-473b-8a75-385598b64c97",
    "collapsed": false,
    "execution": {
     "iopub.execute_input": "2025-01-08T12:59:07.595582Z",
     "iopub.status.busy": "2025-01-08T12:59:07.594400Z",
     "iopub.status.idle": "2025-01-08T12:59:08.497236Z",
     "shell.execute_reply": "2025-01-08T12:59:08.496209Z"
    },
    "id": "7VepYznXcK3K",
    "jupyter": {
     "outputs_hidden": false
    },
    "papermill": {
     "duration": 0.913387,
     "end_time": "2025-01-08T12:59:08.499701",
     "exception": false,
     "start_time": "2025-01-08T12:59:07.586314",
     "status": "completed"
    },
    "tags": []
   },
   "outputs": [],
   "source": [
    "train_dir = '../input/fer2013/train/'\n",
    "test_dir = '../input/fer2013/test/'\n",
    "\n",
    "def Classes_Count( path, name):\n",
    "    Classes_Dict = {}\n",
    "    \n",
    "    for Class in os.listdir(path):\n",
    "        \n",
    "        Full_Path = path + Class\n",
    "        Classes_Dict[Class] = len(os.listdir(Full_Path))\n",
    "        \n",
    "    df = pd.DataFrame(Classes_Dict, index=[name])\n",
    "    \n",
    "    return df\n",
    "\n",
    "Train_Count = Classes_Count(train_dir, 'Train').transpose().sort_values(by=\"Train\", ascending=False)\n",
    "Test_Count = Classes_Count(test_dir, 'Test').transpose().sort_values(by=\"Test\", ascending=False)"
   ]
  },
  {
   "cell_type": "code",
   "execution_count": 3,
   "id": "de212698",
   "metadata": {
    "_cell_guid": "0cfad9af-f524-4cc8-a15e-5e597c71a623",
    "_uuid": "aaa35dff-aa14-40d6-818d-7eaeafd86048",
    "collapsed": false,
    "execution": {
     "iopub.execute_input": "2025-01-08T12:59:08.516193Z",
     "iopub.status.busy": "2025-01-08T12:59:08.515369Z",
     "iopub.status.idle": "2025-01-08T12:59:08.531245Z",
     "shell.execute_reply": "2025-01-08T12:59:08.530352Z"
    },
    "id": "QWDotxg4cK3L",
    "jupyter": {
     "outputs_hidden": false
    },
    "outputId": "7d1bde5e-8fcf-4446-e0db-cbbcd3ca5561",
    "papermill": {
     "duration": 0.026107,
     "end_time": "2025-01-08T12:59:08.533307",
     "exception": false,
     "start_time": "2025-01-08T12:59:08.507200",
     "status": "completed"
    },
    "tags": []
   },
   "outputs": [
    {
     "data": {
      "text/html": [
       "<div>\n",
       "<style scoped>\n",
       "    .dataframe tbody tr th:only-of-type {\n",
       "        vertical-align: middle;\n",
       "    }\n",
       "\n",
       "    .dataframe tbody tr th {\n",
       "        vertical-align: top;\n",
       "    }\n",
       "\n",
       "    .dataframe thead th {\n",
       "        text-align: right;\n",
       "    }\n",
       "</style>\n",
       "<table border=\"1\" class=\"dataframe\">\n",
       "  <thead>\n",
       "    <tr style=\"text-align: right;\">\n",
       "      <th></th>\n",
       "      <th>Train</th>\n",
       "      <th>Test</th>\n",
       "    </tr>\n",
       "  </thead>\n",
       "  <tbody>\n",
       "    <tr>\n",
       "      <th>happy</th>\n",
       "      <td>7215</td>\n",
       "      <td>1774</td>\n",
       "    </tr>\n",
       "    <tr>\n",
       "      <th>neutral</th>\n",
       "      <td>4965</td>\n",
       "      <td>1233</td>\n",
       "    </tr>\n",
       "    <tr>\n",
       "      <th>sad</th>\n",
       "      <td>4830</td>\n",
       "      <td>1247</td>\n",
       "    </tr>\n",
       "    <tr>\n",
       "      <th>fear</th>\n",
       "      <td>4097</td>\n",
       "      <td>1024</td>\n",
       "    </tr>\n",
       "    <tr>\n",
       "      <th>angry</th>\n",
       "      <td>3995</td>\n",
       "      <td>958</td>\n",
       "    </tr>\n",
       "    <tr>\n",
       "      <th>surprise</th>\n",
       "      <td>3171</td>\n",
       "      <td>831</td>\n",
       "    </tr>\n",
       "    <tr>\n",
       "      <th>disgust</th>\n",
       "      <td>436</td>\n",
       "      <td>111</td>\n",
       "    </tr>\n",
       "  </tbody>\n",
       "</table>\n",
       "</div>"
      ],
      "text/plain": [
       "          Train  Test\n",
       "happy      7215  1774\n",
       "neutral    4965  1233\n",
       "sad        4830  1247\n",
       "fear       4097  1024\n",
       "angry      3995   958\n",
       "surprise   3171   831\n",
       "disgust     436   111"
      ]
     },
     "execution_count": 3,
     "metadata": {},
     "output_type": "execute_result"
    }
   ],
   "source": [
    "pd.concat([Train_Count,Test_Count] , axis=1)"
   ]
  },
  {
   "cell_type": "code",
   "execution_count": 4,
   "id": "c0eb1098",
   "metadata": {
    "_cell_guid": "365c4a6f-efca-4a59-b96d-ad076bfd7459",
    "_uuid": "7f0221ad-cce9-4efe-b55a-dbe62283b20e",
    "collapsed": false,
    "execution": {
     "iopub.execute_input": "2025-01-08T12:59:08.549191Z",
     "iopub.status.busy": "2025-01-08T12:59:08.548886Z",
     "iopub.status.idle": "2025-01-08T12:59:08.810267Z",
     "shell.execute_reply": "2025-01-08T12:59:08.809420Z"
    },
    "id": "85np-T5-cK3M",
    "jupyter": {
     "outputs_hidden": false
    },
    "outputId": "fca47b30-2c0e-4780-b878-a9bff5bff8aa",
    "papermill": {
     "duration": 0.271547,
     "end_time": "2025-01-08T12:59:08.812355",
     "exception": false,
     "start_time": "2025-01-08T12:59:08.540808",
     "status": "completed"
    },
    "tags": []
   },
   "outputs": [
    {
     "data": {
      "text/plain": [
       "<AxesSubplot:>"
      ]
     },
     "execution_count": 4,
     "metadata": {},
     "output_type": "execute_result"
    },
    {
     "data": {
      "image/png": "[encoded data removed]",
      "text/plain": [
       "<Figure size 640x480 with 1 Axes>"
      ]
     },
     "metadata": {},
     "output_type": "display_data"
    }
   ],
   "source": [
    "Train_Count.plot(kind='barh')"
   ]
  },
  {
   "cell_type": "code",
   "execution_count": 5,
   "id": "f407f4df",
   "metadata": {
    "_cell_guid": "d3a99abb-2c45-4cb4-98ae-7ca24ce2dfa4",
    "_uuid": "0888f341-87f4-4bfe-976b-f8974b12f5cc",
    "collapsed": false,
    "execution": {
     "iopub.execute_input": "2025-01-08T12:59:08.829826Z",
     "iopub.status.busy": "2025-01-08T12:59:08.828957Z",
     "iopub.status.idle": "2025-01-08T12:59:09.006907Z",
     "shell.execute_reply": "2025-01-08T12:59:09.005993Z"
    },
    "id": "tAydj7OOcK3N",
    "jupyter": {
     "outputs_hidden": false
    },
    "outputId": "119888bc-fc83-4c65-b201-8045710563c2",
    "papermill": {
     "duration": 0.188726,
     "end_time": "2025-01-08T12:59:09.008978",
     "exception": false,
     "start_time": "2025-01-08T12:59:08.820252",
     "status": "completed"
    },
    "tags": []
   },
   "outputs": [
    {
     "data": {
      "text/plain": [
       "<AxesSubplot:>"
      ]
     },
     "execution_count": 5,
     "metadata": {},
     "output_type": "execute_result"
    },
    {
     "data": {
      "image/png": "[encoded data removed]",
      "text/plain": [
       "<Figure size 640x480 with 1 Axes>"
      ]
     },
     "metadata": {},
     "output_type": "display_data"
    }
   ],
   "source": [
    "Test_Count.plot(kind='barh')"
   ]
  },
  {
   "cell_type": "code",
   "execution_count": 6,
   "id": "d634fac4",
   "metadata": {
    "_cell_guid": "f23b96f5-811c-40dc-9b9b-2e13b5134026",
    "_uuid": "39e3c74a-6854-4fd8-927b-b0e42abe9ff5",
    "collapsed": false,
    "execution": {
     "iopub.execute_input": "2025-01-08T12:59:09.027189Z",
     "iopub.status.busy": "2025-01-08T12:59:09.026575Z",
     "iopub.status.idle": "2025-01-08T12:59:09.880962Z",
     "shell.execute_reply": "2025-01-08T12:59:09.880106Z"
    },
    "id": "jrajJd6QcK3O",
    "jupyter": {
     "outputs_hidden": false
    },
    "outputId": "dd94214a-c1be-4006-adc4-b6d3afa5c596",
    "papermill": {
     "duration": 0.866109,
     "end_time": "2025-01-08T12:59:09.883540",
     "exception": false,
     "start_time": "2025-01-08T12:59:09.017431",
     "status": "completed"
    },
    "tags": []
   },
   "outputs": [
    {
     "data": {
      "image/png": "[encoded data removed]",
      "text/plain": [
       "<Figure size 2500x800 with 7 Axes>"
      ]
     },
     "metadata": {},
     "output_type": "display_data"
    }
   ],
   "source": [
    "plt.style.use('default')\n",
    "plt.figure(figsize = (25, 8))\n",
    "image_count = 1\n",
    "BASE_URL = '../input/fer2013/train/'\n",
    "\n",
    "for directory in os.listdir(BASE_URL):\n",
    "    if directory[0] != '.':\n",
    "        for i, file in enumerate(os.listdir(BASE_URL + directory)):\n",
    "            if i == 1:\n",
    "                break\n",
    "            else:\n",
    "                fig = plt.subplot(1, 7, image_count)\n",
    "                image_count += 1\n",
    "                image = cv2.imread(BASE_URL + directory + '/' + file)\n",
    "                plt.imshow(image)\n",
    "                plt.title(directory, fontsize = 20)"
   ]
  },
  {
   "cell_type": "markdown",
   "id": "dc204be5",
   "metadata": {
    "_cell_guid": "a7ff19b9-1962-47a2-97cd-179aff302025",
    "_uuid": "2e2b57b2-25cb-4b5a-be66-be4c90ff3a5c",
    "collapsed": false,
    "id": "Ml6az1aFcK3Q",
    "jupyter": {
     "outputs_hidden": false
    },
    "papermill": {
     "duration": 0.009327,
     "end_time": "2025-01-08T12:59:09.902202",
     "exception": false,
     "start_time": "2025-01-08T12:59:09.892875",
     "status": "completed"
    },
    "tags": []
   },
   "source": [
    "# **Data Preprocessing**"
   ]
  },
  {
   "cell_type": "code",
   "execution_count": 7,
   "id": "ba9ec880",
   "metadata": {
    "_cell_guid": "758742ca-2549-4e19-8e57-0bed5ef30a36",
    "_uuid": "4313a795-e937-4da2-9113-ef9022522888",
    "collapsed": false,
    "execution": {
     "iopub.execute_input": "2025-01-08T12:59:09.921959Z",
     "iopub.status.busy": "2025-01-08T12:59:09.921119Z",
     "iopub.status.idle": "2025-01-08T12:59:09.925750Z",
     "shell.execute_reply": "2025-01-08T12:59:09.924781Z"
    },
    "id": "ZKXO7pCFcK3Q",
    "jupyter": {
     "outputs_hidden": false
    },
    "papermill": {
     "duration": 0.016459,
     "end_time": "2025-01-08T12:59:09.927516",
     "exception": false,
     "start_time": "2025-01-08T12:59:09.911057",
     "status": "completed"
    },
    "tags": []
   },
   "outputs": [],
   "source": [
    "img_shape = 48\n",
    "batch_size = 64\n",
    "train_data_path = '../input/fer2013/train/'\n",
    "test_data_path = '../input/fer2013/test/'"
   ]
  },
  {
   "cell_type": "code",
   "execution_count": 8,
   "id": "3f49bf27",
   "metadata": {
    "_cell_guid": "4d937a3a-4820-44d3-969c-a591c8509e99",
    "_uuid": "f4852d7b-6fb2-4357-ae0c-241d6366433c",
    "collapsed": false,
    "execution": {
     "iopub.execute_input": "2025-01-08T12:59:09.946640Z",
     "iopub.status.busy": "2025-01-08T12:59:09.946371Z",
     "iopub.status.idle": "2025-01-08T13:00:16.155766Z",
     "shell.execute_reply": "2025-01-08T13:00:16.154653Z"
    },
    "id": "TOlnNiY9cK3R",
    "jupyter": {
     "outputs_hidden": false
    },
    "outputId": "f31f905a-ce99-4b65-c8d5-902c98cc19c7",
    "papermill": {
     "duration": 66.221154,
     "end_time": "2025-01-08T13:00:16.157694",
     "exception": false,
     "start_time": "2025-01-08T12:59:09.936540",
     "status": "completed"
    },
    "tags": []
   },
   "outputs": [
    {
     "name": "stdout",
     "output_type": "stream",
     "text": [
      "Found 28709 images belonging to 7 classes.\n",
      "Found 7178 images belonging to 7 classes.\n"
     ]
    }
   ],
   "source": [
    "train_preprocessor = ImageDataGenerator(\n",
    "        rescale = 1 / 255.,\n",
    "        # Data Augmentation\n",
    "        rotation_range=10,\n",
    "        zoom_range=0.2,\n",
    "        width_shift_range=0.1,\n",
    "        height_shift_range=0.1,\n",
    "        horizontal_flip=True,                                        \n",
    "        fill_mode='nearest',\n",
    "    )\n",
    "\n",
    "\n",
    "test_preprocessor = ImageDataGenerator(\n",
    "    rescale = 1 / 255.,\n",
    ")\n",
    "\n",
    "train_data = train_preprocessor.flow_from_directory(\n",
    "    train_data_path,\n",
    "    class_mode=\"categorical\",\n",
    "    target_size=(img_shape,img_shape),\n",
    "    color_mode='rgb', \n",
    "    shuffle=True,\n",
    "    batch_size=batch_size,\n",
    "    subset='training', \n",
    ")\n",
    "\n",
    "\n",
    "test_data = test_preprocessor.flow_from_directory(\n",
    "    test_data_path,\n",
    "    class_mode=\"categorical\",\n",
    "    target_size=(img_shape,img_shape),\n",
    "    color_mode=\"rgb\",\n",
    "    shuffle=False,\n",
    "    batch_size=batch_size,\n",
    ")"
   ]
  },
  {
   "cell_type": "markdown",
   "id": "10123235",
   "metadata": {
    "_cell_guid": "431e3309-b6ae-464e-9e2f-43e03c4b68a2",
    "_uuid": "ffb34d1b-823d-4cfc-bd08-b0f2898746e4",
    "collapsed": false,
    "id": "3_fBEuJvg4iZ",
    "jupyter": {
     "outputs_hidden": false
    },
    "papermill": {
     "duration": 0.00891,
     "end_time": "2025-01-08T13:00:16.176221",
     "exception": false,
     "start_time": "2025-01-08T13:00:16.167311",
     "status": "completed"
    },
    "tags": []
   },
   "source": [
    "# **Building CNN Model**"
   ]
  },
  {
   "cell_type": "code",
   "execution_count": 9,
   "id": "d13008a3",
   "metadata": {
    "_cell_guid": "94c570e0-c419-4633-9124-c24169b46e77",
    "_uuid": "0f2396e8-75aa-47c5-b5d8-f01190d41775",
    "collapsed": false,
    "execution": {
     "iopub.execute_input": "2025-01-08T13:00:16.196377Z",
     "iopub.status.busy": "2025-01-08T13:00:16.195758Z",
     "iopub.status.idle": "2025-01-08T13:00:16.209148Z",
     "shell.execute_reply": "2025-01-08T13:00:16.208195Z"
    },
    "id": "oeA1n1Wfg4iZ",
    "jupyter": {
     "outputs_hidden": false
    },
    "papermill": {
     "duration": 0.025719,
     "end_time": "2025-01-08T13:00:16.211129",
     "exception": false,
     "start_time": "2025-01-08T13:00:16.185410",
     "status": "completed"
    },
    "tags": []
   },
   "outputs": [],
   "source": [
    "def Create_CNN_Model():\n",
    "    \n",
    "    model = Sequential()\n",
    "    \n",
    "    #CNN1\n",
    "    model.add(Conv2D(32, (3,3), activation='relu', input_shape=(img_shape, img_shape, 3)))\n",
    "    model.add(BatchNormalization())\n",
    "    model.add(Conv2D(64,(3,3), activation='relu', padding='same'))\n",
    "    model.add(BatchNormalization())\n",
    "    model.add(MaxPooling2D(pool_size=(2,2), padding='same'))\n",
    "    model.add(Dropout(0.25))\n",
    "    \n",
    "    #CNN2\n",
    "    model.add(Conv2D(64, (3,3), activation='relu', ))\n",
    "    model.add(BatchNormalization())\n",
    "    model.add(Conv2D(128,(3,3), activation='relu', padding='same'))\n",
    "    model.add(BatchNormalization())\n",
    "    model.add(MaxPooling2D(pool_size=(2,2), padding='same'))\n",
    "    model.add(Dropout(0.25))\n",
    "    \n",
    "    #CNN3\n",
    "    model.add(Conv2D(128, (3,3), activation='relu'))\n",
    "    model.add(BatchNormalization())\n",
    "    model.add(Conv2D(256,(3,3), activation='relu', padding='same'))\n",
    "    model.add(BatchNormalization())\n",
    "    model.add(MaxPooling2D(pool_size=(2,2), padding='same'))\n",
    "    model.add(Dropout(0.25))\n",
    "    \n",
    "    \n",
    "    #Output\n",
    "    model.add(Flatten())\n",
    "    \n",
    "    model.add(Dense(1024, activation='relu'))\n",
    "    model.add(BatchNormalization())\n",
    "    model.add(Dropout(0.25))\n",
    "    \n",
    "    model.add(Dense(512, activation='relu'))\n",
    "    model.add(BatchNormalization())\n",
    "    model.add(Dropout(0.25))\n",
    "    \n",
    "    model.add(Dense(256, activation='relu'))\n",
    "    model.add(BatchNormalization())\n",
    "    model.add(Dropout(0.25))\n",
    "    \n",
    "    model.add(Dense(128, activation='relu'))\n",
    "    model.add(BatchNormalization())\n",
    "    model.add(Dropout(0.25))\n",
    "    \n",
    "    model.add(Dense(64, activation='relu'))\n",
    "    model.add(BatchNormalization())\n",
    "    model.add(Dropout(0.25))\n",
    "    \n",
    "    model.add(Dense(32, activation='relu'))\n",
    "    model.add(BatchNormalization())\n",
    "    model.add(Dropout(0.25))\n",
    "    \n",
    "    model.add(Dense(7,activation='softmax'))\n",
    "    \n",
    "    \n",
    "    return model"
   ]
  },
  {
   "cell_type": "code",
   "execution_count": 10,
   "id": "f574523e",
   "metadata": {
    "_cell_guid": "b4a64164-62df-4f82-95ab-74c3b2646af4",
    "_uuid": "1e2717b9-7c5c-4113-a34a-6d9f945ab333",
    "collapsed": false,
    "execution": {
     "iopub.execute_input": "2025-01-08T13:00:16.231589Z",
     "iopub.status.busy": "2025-01-08T13:00:16.230973Z",
     "iopub.status.idle": "2025-01-08T13:00:19.078504Z",
     "shell.execute_reply": "2025-01-08T13:00:19.077516Z"
    },
    "id": "E1TV5dQGg4ia",
    "jupyter": {
     "outputs_hidden": false
    },
    "outputId": "3b6ce039-6005-4dfd-d1e7-285724af286c",
    "papermill": {
     "duration": 2.859825,
     "end_time": "2025-01-08T13:00:19.080680",
     "exception": false,
     "start_time": "2025-01-08T13:00:16.220855",
     "status": "completed"
    },
    "tags": []
   },
   "outputs": [
    {
     "name": "stdout",
     "output_type": "stream",
     "text": [
      "Model: \"sequential\"\n",
      "_________________________________________________________________\n",
      "Layer (type)                 Output Shape              Param #   \n",
      "=================================================================\n",
      "conv2d (Conv2D)              (None, 46, 46, 32)        896       \n",
      "_________________________________________________________________\n",
      "batch_normalization (BatchNo (None, 46, 46, 32)        128       \n",
      "_________________________________________________________________\n",
      "conv2d_1 (Conv2D)            (None, 46, 46, 64)        18496     \n",
      "_________________________________________________________________\n",
      "batch_normalization_1 (Batch (None, 46, 46, 64)        256       \n",
      "_________________________________________________________________\n",
      "max_pooling2d (MaxPooling2D) (None, 23, 23, 64)        0         \n",
      "_________________________________________________________________\n",
      "dropout (Dropout)            (None, 23, 23, 64)        0         \n",
      "_________________________________________________________________\n",
      "conv2d_2 (Conv2D)            (None, 21, 21, 64)        36928     \n",
      "_________________________________________________________________\n",
      "batch_normalization_2 (Batch (None, 21, 21, 64)        256       \n",
      "_________________________________________________________________\n",
      "conv2d_3 (Conv2D)            (None, 21, 21, 128)       73856     \n",
      "_________________________________________________________________\n",
      "batch_normalization_3 (Batch (None, 21, 21, 128)       512       \n",
      "_________________________________________________________________\n",
      "max_pooling2d_1 (MaxPooling2 (None, 11, 11, 128)       0         \n",
      "_________________________________________________________________\n",
      "dropout_1 (Dropout)          (None, 11, 11, 128)       0         \n",
      "_________________________________________________________________\n",
      "conv2d_4 (Conv2D)            (None, 9, 9, 128)         147584    \n",
      "_________________________________________________________________\n",
      "batch_normalization_4 (Batch (None, 9, 9, 128)         512       \n",
      "_________________________________________________________________\n",
      "conv2d_5 (Conv2D)            (None, 9, 9, 256)         295168    \n",
      "_________________________________________________________________\n",
      "batch_normalization_5 (Batch (None, 9, 9, 256)         1024      \n",
      "_________________________________________________________________\n",
      "max_pooling2d_2 (MaxPooling2 (None, 5, 5, 256)         0         \n",
      "_________________________________________________________________\n",
      "dropout_2 (Dropout)          (None, 5, 5, 256)         0         \n",
      "_________________________________________________________________\n",
      "flatten (Flatten)            (None, 6400)              0         \n",
      "_________________________________________________________________\n",
      "dense (Dense)                (None, 1024)              6554624   \n",
      "_________________________________________________________________\n",
      "batch_normalization_6 (Batch (None, 1024)              4096      \n",
      "_________________________________________________________________\n",
      "dropout_3 (Dropout)          (None, 1024)              0         \n",
      "_________________________________________________________________\n",
      "dense_1 (Dense)              (None, 512)               524800    \n",
      "_________________________________________________________________\n",
      "batch_normalization_7 (Batch (None, 512)               2048      \n",
      "_________________________________________________________________\n",
      "dropout_4 (Dropout)          (None, 512)               0         \n",
      "_________________________________________________________________\n",
      "dense_2 (Dense)              (None, 256)               131328    \n",
      "_________________________________________________________________\n",
      "batch_normalization_8 (Batch (None, 256)               1024      \n",
      "_________________________________________________________________\n",
      "dropout_5 (Dropout)          (None, 256)               0         \n",
      "_________________________________________________________________\n",
      "dense_3 (Dense)              (None, 128)               32896     \n",
      "_________________________________________________________________\n",
      "batch_normalization_9 (Batch (None, 128)               512       \n",
      "_________________________________________________________________\n",
      "dropout_6 (Dropout)          (None, 128)               0         \n",
      "_________________________________________________________________\n",
      "dense_4 (Dense)              (None, 64)                8256      \n",
      "_________________________________________________________________\n",
      "batch_normalization_10 (Batc (None, 64)                256       \n",
      "_________________________________________________________________\n",
      "dropout_7 (Dropout)          (None, 64)                0         \n",
      "_________________________________________________________________\n",
      "dense_5 (Dense)              (None, 32)                2080      \n",
      "_________________________________________________________________\n",
      "batch_normalization_11 (Batc (None, 32)                128       \n",
      "_________________________________________________________________\n",
      "dropout_8 (Dropout)          (None, 32)                0         \n",
      "_________________________________________________________________\n",
      "dense_6 (Dense)              (None, 7)                 231       \n",
      "=================================================================\n",
      "Total params: 7,837,895\n",
      "Trainable params: 7,832,519\n",
      "Non-trainable params: 5,376\n",
      "_________________________________________________________________\n"
     ]
    }
   ],
   "source": [
    "CNN_Model = Create_CNN_Model()\n",
    "\n",
    "CNN_Model.summary()\n",
    "\n",
    "CNN_Model.compile(optimizer=\"adam\", loss='categorical_crossentropy', metrics=['accuracy'])"
   ]
  },
  {
   "cell_type": "markdown",
   "id": "335ec5ce",
   "metadata": {
    "_cell_guid": "a1c72e4a-9f30-40d2-887c-24970dc662b3",
    "_uuid": "6706191f-a496-49a0-a2cc-960692257146",
    "collapsed": false,
    "id": "JfPOc4Reg4ia",
    "jupyter": {
     "outputs_hidden": false
    },
    "papermill": {
     "duration": 0.008991,
     "end_time": "2025-01-08T13:00:19.099098",
     "exception": false,
     "start_time": "2025-01-08T13:00:19.090107",
     "status": "completed"
    },
    "tags": []
   },
   "source": [
    "**Specifying Callbacks**"
   ]
  },
  {
   "cell_type": "code",
   "execution_count": 11,
   "id": "a4901b24",
   "metadata": {
    "_cell_guid": "c2f4439e-3b58-4a51-bc2e-24359d3ba6dd",
    "_uuid": "522809b0-817e-4616-ae03-ac4be91e0fb3",
    "collapsed": false,
    "execution": {
     "iopub.execute_input": "2025-01-08T13:00:19.119004Z",
     "iopub.status.busy": "2025-01-08T13:00:19.118682Z",
     "iopub.status.idle": "2025-01-08T13:00:19.124790Z",
     "shell.execute_reply": "2025-01-08T13:00:19.123892Z"
    },
    "id": "GmRkrBGeg4ib",
    "jupyter": {
     "outputs_hidden": false
    },
    "papermill": {
     "duration": 0.018278,
     "end_time": "2025-01-08T13:00:19.126503",
     "exception": false,
     "start_time": "2025-01-08T13:00:19.108225",
     "status": "completed"
    },
    "tags": []
   },
   "outputs": [],
   "source": [
    "# Create Callback Checkpoint\n",
    "checkpoint_path = \"CNN_Model_Checkpoint\"\n",
    "\n",
    "Checkpoint = ModelCheckpoint(checkpoint_path, monitor=\"val_accuracy\", save_best_only=True)\n",
    "\n",
    "# Create Early Stopping Callback to monitor the accuracy\n",
    "Early_Stopping = EarlyStopping(monitor = 'val_accuracy', patience = 15, restore_best_weights = True, verbose=1)\n",
    "\n",
    "# Create ReduceLROnPlateau Callback to reduce overfitting by decreasing learning rate\n",
    "Reducing_LR = tf.keras.callbacks.ReduceLROnPlateau( monitor='val_loss',\n",
    "                                                  factor=0.2,\n",
    "                                                  patience=2,\n",
    "#                                                   min_lr=0.000005,\n",
    "                                                  verbose=1)\n",
    "\n",
    "callbacks = [Early_Stopping, Reducing_LR]\n",
    "\n",
    "steps_per_epoch = train_data.n // train_data.batch_size\n",
    "validation_steps = test_data.n // test_data.batch_size"
   ]
  },
  {
   "cell_type": "code",
   "execution_count": 12,
   "id": "f1c1fc91",
   "metadata": {
    "_cell_guid": "6e64daf4-6486-46e4-aff3-a66f9e9cf1f0",
    "_uuid": "16c62ce9-4729-4efc-8fc8-8b95f9eee9f4",
    "collapsed": false,
    "execution": {
     "iopub.execute_input": "2025-01-08T13:00:19.146394Z",
     "iopub.status.busy": "2025-01-08T13:00:19.146068Z",
     "iopub.status.idle": "2025-01-08T14:06:25.980565Z",
     "shell.execute_reply": "2025-01-08T14:06:25.979095Z"
    },
    "id": "_8fvDLG2g4id",
    "jupyter": {
     "outputs_hidden": false
    },
    "outputId": "60781e49-e110-433f-89f3-261e4c0cb8a3",
    "papermill": {
     "duration": 3966.847774,
     "end_time": "2025-01-08T14:06:25.983472",
     "exception": false,
     "start_time": "2025-01-08T13:00:19.135698",
     "status": "completed"
    },
    "tags": []
   },
   "outputs": [
    {
     "name": "stdout",
     "output_type": "stream",
     "text": [
      "Epoch 1/50\n",
      "448/448 [==============================] - 324s 704ms/step - loss: 2.0558 - accuracy: 0.2090 - val_loss: 1.8152 - val_accuracy: 0.2517\n",
      "Epoch 2/50\n",
      "448/448 [==============================] - 80s 177ms/step - loss: 1.7554 - accuracy: 0.2954 - val_loss: 2.0855 - val_accuracy: 0.3271\n",
      "Epoch 3/50\n",
      "448/448 [==============================] - 74s 165ms/step - loss: 1.6077 - accuracy: 0.3643 - val_loss: 1.4724 - val_accuracy: 0.4329\n",
      "Epoch 4/50\n",
      "448/448 [==============================] - 76s 170ms/step - loss: 1.4820 - accuracy: 0.4245 - val_loss: 1.3809 - val_accuracy: 0.4813\n",
      "Epoch 5/50\n",
      "448/448 [==============================] - 74s 165ms/step - loss: 1.4031 - accuracy: 0.4617 - val_loss: 1.4559 - val_accuracy: 0.4443\n",
      "Epoch 6/50\n",
      "448/448 [==============================] - 73s 163ms/step - loss: 1.3420 - accuracy: 0.4911 - val_loss: 1.3162 - val_accuracy: 0.5075\n",
      "Epoch 7/50\n",
      "448/448 [==============================] - 75s 168ms/step - loss: 1.3105 - accuracy: 0.5036 - val_loss: 1.3071 - val_accuracy: 0.5040\n",
      "Epoch 8/50\n",
      "448/448 [==============================] - 75s 167ms/step - loss: 1.2890 - accuracy: 0.5144 - val_loss: 1.3091 - val_accuracy: 0.4951\n",
      "Epoch 9/50\n",
      "448/448 [==============================] - 75s 167ms/step - loss: 1.2496 - accuracy: 0.5313 - val_loss: 1.1839 - val_accuracy: 0.5495\n",
      "Epoch 10/50\n",
      "448/448 [==============================] - 75s 168ms/step - loss: 1.2248 - accuracy: 0.5410 - val_loss: 1.1511 - val_accuracy: 0.5603\n",
      "Epoch 11/50\n",
      "448/448 [==============================] - 73s 164ms/step - loss: 1.2046 - accuracy: 0.5491 - val_loss: 1.1831 - val_accuracy: 0.5534\n",
      "Epoch 12/50\n",
      "448/448 [==============================] - 83s 185ms/step - loss: 1.1844 - accuracy: 0.5584 - val_loss: 1.1214 - val_accuracy: 0.5771\n",
      "Epoch 13/50\n",
      "448/448 [==============================] - 75s 167ms/step - loss: 1.1667 - accuracy: 0.5702 - val_loss: 1.1027 - val_accuracy: 0.5845\n",
      "Epoch 14/50\n",
      "448/448 [==============================] - 77s 172ms/step - loss: 1.1529 - accuracy: 0.5744 - val_loss: 1.1045 - val_accuracy: 0.5910\n",
      "Epoch 15/50\n",
      "448/448 [==============================] - 73s 164ms/step - loss: 1.1309 - accuracy: 0.5835 - val_loss: 1.0622 - val_accuracy: 0.6035\n",
      "Epoch 16/50\n",
      "448/448 [==============================] - 72s 162ms/step - loss: 1.1283 - accuracy: 0.5819 - val_loss: 1.0522 - val_accuracy: 0.6055\n",
      "Epoch 17/50\n",
      "448/448 [==============================] - 72s 162ms/step - loss: 1.1125 - accuracy: 0.5873 - val_loss: 1.2293 - val_accuracy: 0.5379\n",
      "Epoch 18/50\n",
      "448/448 [==============================] - 73s 164ms/step - loss: 1.1067 - accuracy: 0.5906 - val_loss: 1.1084 - val_accuracy: 0.5898\n",
      "\n",
      "Epoch 00018: ReduceLROnPlateau reducing learning rate to 0.00020000000949949026.\n",
      "Epoch 19/50\n",
      "448/448 [==============================] - 73s 163ms/step - loss: 1.0588 - accuracy: 0.6111 - val_loss: 0.9829 - val_accuracy: 0.6289\n",
      "Epoch 20/50\n",
      "448/448 [==============================] - 73s 162ms/step - loss: 1.0322 - accuracy: 0.6189 - val_loss: 0.9620 - val_accuracy: 0.6438\n",
      "Epoch 21/50\n",
      "448/448 [==============================] - 72s 160ms/step - loss: 1.0228 - accuracy: 0.6244 - val_loss: 0.9641 - val_accuracy: 0.6383\n",
      "Epoch 22/50\n",
      "448/448 [==============================] - 72s 160ms/step - loss: 1.0206 - accuracy: 0.6263 - val_loss: 0.9456 - val_accuracy: 0.6458\n",
      "Epoch 23/50\n",
      "448/448 [==============================] - 79s 176ms/step - loss: 1.0074 - accuracy: 0.6291 - val_loss: 0.9572 - val_accuracy: 0.6395\n",
      "Epoch 24/50\n",
      "448/448 [==============================] - 81s 180ms/step - loss: 1.0086 - accuracy: 0.6278 - val_loss: 0.9534 - val_accuracy: 0.6448\n",
      "\n",
      "Epoch 00024: ReduceLROnPlateau reducing learning rate to 4.0000001899898055e-05.\n",
      "Epoch 25/50\n",
      "448/448 [==============================] - 80s 178ms/step - loss: 0.9816 - accuracy: 0.6353 - val_loss: 0.9426 - val_accuracy: 0.6482\n",
      "Epoch 26/50\n",
      "448/448 [==============================] - 75s 168ms/step - loss: 0.9755 - accuracy: 0.6410 - val_loss: 0.9410 - val_accuracy: 0.6508\n",
      "Epoch 27/50\n",
      "448/448 [==============================] - 72s 162ms/step - loss: 0.9825 - accuracy: 0.6396 - val_loss: 0.9390 - val_accuracy: 0.6526\n",
      "Epoch 28/50\n",
      "448/448 [==============================] - 73s 162ms/step - loss: 0.9799 - accuracy: 0.6410 - val_loss: 0.9405 - val_accuracy: 0.6516\n",
      "Epoch 29/50\n",
      "448/448 [==============================] - 72s 162ms/step - loss: 0.9761 - accuracy: 0.6425 - val_loss: 0.9366 - val_accuracy: 0.6509\n",
      "Epoch 30/50\n",
      "448/448 [==============================] - 73s 163ms/step - loss: 0.9788 - accuracy: 0.6415 - val_loss: 0.9353 - val_accuracy: 0.6521\n",
      "Epoch 31/50\n",
      "448/448 [==============================] - 73s 162ms/step - loss: 0.9721 - accuracy: 0.6440 - val_loss: 0.9416 - val_accuracy: 0.6500\n",
      "Epoch 32/50\n",
      "448/448 [==============================] - 76s 168ms/step - loss: 0.9738 - accuracy: 0.6441 - val_loss: 0.9362 - val_accuracy: 0.6540\n",
      "\n",
      "Epoch 00032: ReduceLROnPlateau reducing learning rate to 8.000000525498762e-06.\n",
      "Epoch 33/50\n",
      "448/448 [==============================] - 73s 163ms/step - loss: 0.9639 - accuracy: 0.6472 - val_loss: 0.9341 - val_accuracy: 0.6539\n",
      "Epoch 34/50\n",
      "448/448 [==============================] - 72s 162ms/step - loss: 0.9644 - accuracy: 0.6447 - val_loss: 0.9347 - val_accuracy: 0.6542\n",
      "Epoch 35/50\n",
      "448/448 [==============================] - 72s 162ms/step - loss: 0.9635 - accuracy: 0.6477 - val_loss: 0.9336 - val_accuracy: 0.6551\n",
      "Epoch 36/50\n",
      "448/448 [==============================] - 77s 173ms/step - loss: 0.9649 - accuracy: 0.6472 - val_loss: 0.9335 - val_accuracy: 0.6537\n",
      "Epoch 37/50\n",
      "448/448 [==============================] - 78s 174ms/step - loss: 0.9574 - accuracy: 0.6479 - val_loss: 0.9337 - val_accuracy: 0.6554\n",
      "\n",
      "Epoch 00037: ReduceLROnPlateau reducing learning rate to 1.6000001778593287e-06.\n",
      "Epoch 38/50\n",
      "448/448 [==============================] - 76s 170ms/step - loss: 0.9594 - accuracy: 0.6478 - val_loss: 0.9338 - val_accuracy: 0.6543\n",
      "Epoch 39/50\n",
      "448/448 [==============================] - 74s 164ms/step - loss: 0.9634 - accuracy: 0.6489 - val_loss: 0.9330 - val_accuracy: 0.6539\n",
      "Epoch 40/50\n",
      "448/448 [==============================] - 73s 162ms/step - loss: 0.9612 - accuracy: 0.6478 - val_loss: 0.9351 - val_accuracy: 0.6540\n",
      "Epoch 41/50\n",
      "448/448 [==============================] - 71s 159ms/step - loss: 0.9665 - accuracy: 0.6453 - val_loss: 0.9337 - val_accuracy: 0.6550\n",
      "\n",
      "Epoch 00041: ReduceLROnPlateau reducing learning rate to 3.200000264769187e-07.\n",
      "Epoch 42/50\n",
      "448/448 [==============================] - 71s 158ms/step - loss: 0.9675 - accuracy: 0.6459 - val_loss: 0.9337 - val_accuracy: 0.6540\n",
      "Epoch 43/50\n",
      "448/448 [==============================] - 73s 162ms/step - loss: 0.9495 - accuracy: 0.6533 - val_loss: 0.9336 - val_accuracy: 0.6536\n",
      "\n",
      "Epoch 00043: ReduceLROnPlateau reducing learning rate to 6.400000529538374e-08.\n",
      "Epoch 44/50\n",
      "448/448 [==============================] - 78s 174ms/step - loss: 0.9614 - accuracy: 0.6467 - val_loss: 0.9344 - val_accuracy: 0.6536\n",
      "Epoch 45/50\n",
      "448/448 [==============================] - 71s 159ms/step - loss: 0.9634 - accuracy: 0.6473 - val_loss: 0.9341 - val_accuracy: 0.6537\n",
      "\n",
      "Epoch 00045: ReduceLROnPlateau reducing learning rate to 1.2800001059076749e-08.\n",
      "Epoch 46/50\n",
      "448/448 [==============================] - 72s 161ms/step - loss: 0.9690 - accuracy: 0.6436 - val_loss: 0.9336 - val_accuracy: 0.6530\n",
      "Epoch 47/50\n",
      "448/448 [==============================] - 71s 159ms/step - loss: 0.9631 - accuracy: 0.6475 - val_loss: 0.9350 - val_accuracy: 0.6537\n",
      "\n",
      "Epoch 00047: ReduceLROnPlateau reducing learning rate to 2.5600002118153498e-09.\n",
      "Epoch 48/50\n",
      "448/448 [==============================] - 71s 159ms/step - loss: 0.9612 - accuracy: 0.6463 - val_loss: 0.9350 - val_accuracy: 0.6532\n",
      "Epoch 49/50\n",
      "448/448 [==============================] - 73s 164ms/step - loss: 0.9626 - accuracy: 0.6486 - val_loss: 0.9353 - val_accuracy: 0.6530\n",
      "\n",
      "Epoch 00049: ReduceLROnPlateau reducing learning rate to 5.1200004236307e-10.\n",
      "Epoch 50/50\n",
      "448/448 [==============================] - 73s 163ms/step - loss: 0.9654 - accuracy: 0.6471 - val_loss: 0.9348 - val_accuracy: 0.6535\n"
     ]
    }
   ],
   "source": [
    "CNN_history = CNN_Model.fit( train_data , validation_data= test_data , epochs=50, batch_size= batch_size,\n",
    "                            callbacks=callbacks, steps_per_epoch= steps_per_epoch, validation_steps=validation_steps)"
   ]
  },
  {
   "cell_type": "markdown",
   "id": "56e1340e",
   "metadata": {
    "_cell_guid": "db20f447-fd86-4ed8-8ac8-be9005665b1b",
    "_uuid": "f874c1d1-f876-4af7-82d9-98a4e3aa47cb",
    "collapsed": false,
    "id": "t8mdy1A9g7iR",
    "jupyter": {
     "outputs_hidden": false
    },
    "papermill": {
     "duration": 1.039442,
     "end_time": "2025-01-08T14:06:28.101411",
     "exception": false,
     "start_time": "2025-01-08T14:06:27.061969",
     "status": "completed"
    },
    "tags": []
   },
   "source": [
    "# **Evaluating CNN Model**"
   ]
  },
  {
   "cell_type": "code",
   "execution_count": 13,
   "id": "b87932f0",
   "metadata": {
    "_cell_guid": "671a06d0-0651-46d9-b8af-c0942577826e",
    "_uuid": "0c448959-84cf-40c1-8c27-826065915f54",
    "collapsed": false,
    "execution": {
     "iopub.execute_input": "2025-01-08T14:06:30.108569Z",
     "iopub.status.busy": "2025-01-08T14:06:30.107767Z",
     "iopub.status.idle": "2025-01-08T14:06:40.551809Z",
     "shell.execute_reply": "2025-01-08T14:06:40.550698Z"
    },
    "id": "Eob2J3slg4ie",
    "jupyter": {
     "outputs_hidden": false
    },
    "outputId": "9e76f7b3-4cce-4b88-90d0-fe1a5dfd377f",
    "papermill": {
     "duration": 11.416921,
     "end_time": "2025-01-08T14:06:40.553747",
     "exception": false,
     "start_time": "2025-01-08T14:06:29.136826",
     "status": "completed"
    },
    "tags": []
   },
   "outputs": [
    {
     "name": "stdout",
     "output_type": "stream",
     "text": [
      "113/113 [==============================] - 10s 91ms/step - loss: 0.9337 - accuracy: 0.6539\n",
      "    Test Loss: 0.93373\n",
      "Test Accuracy: 65.39%\n"
     ]
    }
   ],
   "source": [
    "CNN_Score = CNN_Model.evaluate(test_data)\n",
    "\n",
    "print(\"    Test Loss: {:.5f}\".format(CNN_Score[0]))\n",
    "print(\"Test Accuracy: {:.2f}%\".format(CNN_Score[1] * 100))"
   ]
  },
  {
   "cell_type": "code",
   "execution_count": 14,
   "id": "41ae97be",
   "metadata": {
    "_cell_guid": "dc565bdb-0546-45d3-b6a1-3d77a10c004a",
    "_uuid": "a30d13ca-2102-43a8-93c6-b9de7314bcc8",
    "collapsed": false,
    "execution": {
     "iopub.execute_input": "2025-01-08T14:06:42.638465Z",
     "iopub.status.busy": "2025-01-08T14:06:42.638103Z",
     "iopub.status.idle": "2025-01-08T14:06:42.645428Z",
     "shell.execute_reply": "2025-01-08T14:06:42.644563Z"
    },
    "id": "k65iFZgxg4if",
    "jupyter": {
     "outputs_hidden": false
    },
    "papermill": {
     "duration": 1.043365,
     "end_time": "2025-01-08T14:06:42.647257",
     "exception": false,
     "start_time": "2025-01-08T14:06:41.603892",
     "status": "completed"
    },
    "tags": []
   },
   "outputs": [],
   "source": [
    "def plot_curves(history):\n",
    "\n",
    "    loss = history.history[\"loss\"]\n",
    "    val_loss = history.history[\"val_loss\"]\n",
    "\n",
    "    accuracy = history.history[\"accuracy\"]\n",
    "    val_accuracy = history.history[\"val_accuracy\"]\n",
    "\n",
    "    epochs = range(len(history.history[\"loss\"]))\n",
    "\n",
    "    plt.figure(figsize=(15,5))\n",
    "\n",
    "    #plot loss\n",
    "    plt.subplot(1, 2, 1)\n",
    "    plt.plot(epochs, loss, label = \"training_loss\")\n",
    "    plt.plot(epochs, val_loss, label = \"val_loss\")\n",
    "    plt.title(\"Loss\")\n",
    "    plt.xlabel(\"epochs\")\n",
    "    plt.legend()\n",
    "\n",
    "    #plot accuracy\n",
    "    plt.subplot(1, 2, 2)\n",
    "    plt.plot(epochs, accuracy, label = \"training_accuracy\")\n",
    "    plt.plot(epochs, val_accuracy, label = \"val_accuracy\")\n",
    "    plt.title(\"Accuracy\")\n",
    "    plt.xlabel(\"epochs\")\n",
    "    plt.legend()\n",
    "  \n",
    "  #plt.tight_layout()"
   ]
  },
  {
   "cell_type": "code",
   "execution_count": 15,
   "id": "0c86bc13",
   "metadata": {
    "_cell_guid": "f2967988-b20d-4edf-a532-d52f7dcfdc81",
    "_uuid": "4735925b-d5cc-447d-a8ed-ab4ae23db165",
    "collapsed": false,
    "execution": {
     "iopub.execute_input": "2025-01-08T14:06:44.744817Z",
     "iopub.status.busy": "2025-01-08T14:06:44.744455Z",
     "iopub.status.idle": "2025-01-08T14:06:45.220064Z",
     "shell.execute_reply": "2025-01-08T14:06:45.219095Z"
    },
    "id": "eE0FwYAog4ig",
    "jupyter": {
     "outputs_hidden": false
    },
    "outputId": "adc52370-828e-4d8f-c618-efc035e1c922",
    "papermill": {
     "duration": 1.51621,
     "end_time": "2025-01-08T14:06:45.222202",
     "exception": false,
     "start_time": "2025-01-08T14:06:43.705992",
     "status": "completed"
    },
    "tags": []
   },
   "outputs": [
    {
     "data": {
      "image/png": "[encoded data removed]",
      "text/plain": [
       "<Figure size 1500x500 with 2 Axes>"
      ]
     },
     "metadata": {},
     "output_type": "display_data"
    }
   ],
   "source": [
    "plot_curves(CNN_history)"
   ]
  },
  {
   "cell_type": "code",
   "execution_count": 16,
   "id": "81f7feec",
   "metadata": {
    "_cell_guid": "d0eb59c6-1538-4d3a-8f1b-5e3b6cfe3e7b",
    "_uuid": "529a1d79-6319-4313-a8e4-8867f8a36f3a",
    "collapsed": false,
    "execution": {
     "iopub.execute_input": "2025-01-08T14:06:47.310817Z",
     "iopub.status.busy": "2025-01-08T14:06:47.310149Z",
     "iopub.status.idle": "2025-01-08T14:06:57.477136Z",
     "shell.execute_reply": "2025-01-08T14:06:57.476153Z"
    },
    "id": "FV4wVKD0g4ig",
    "jupyter": {
     "outputs_hidden": false
    },
    "papermill": {
     "duration": 11.206973,
     "end_time": "2025-01-08T14:06:57.479515",
     "exception": false,
     "start_time": "2025-01-08T14:06:46.272542",
     "status": "completed"
    },
    "tags": []
   },
   "outputs": [],
   "source": [
    "CNN_Predictions = CNN_Model.predict(test_data)\n",
    "\n",
    "# Choosing highest probalbilty class in every prediction \n",
    "CNN_Predictions = np.argmax(CNN_Predictions, axis=1)"
   ]
  },
  {
   "cell_type": "code",
   "execution_count": 17,
   "id": "af1df857",
   "metadata": {
    "_cell_guid": "a6771c95-b756-49b8-82a4-c30a64abf9d4",
    "_uuid": "5e227cb6-f2b3-4429-b85d-c919db2602b7",
    "collapsed": false,
    "execution": {
     "iopub.execute_input": "2025-01-08T14:06:59.484141Z",
     "iopub.status.busy": "2025-01-08T14:06:59.483768Z",
     "iopub.status.idle": "2025-01-08T14:06:59.489708Z",
     "shell.execute_reply": "2025-01-08T14:06:59.488906Z"
    },
    "id": "JqVSW2g9g4ih",
    "jupyter": {
     "outputs_hidden": false
    },
    "outputId": "fa4f823d-e15b-40a5-a0e4-50ebeb26f69b",
    "papermill": {
     "duration": 1.034105,
     "end_time": "2025-01-08T14:06:59.491541",
     "exception": false,
     "start_time": "2025-01-08T14:06:58.457436",
     "status": "completed"
    },
    "tags": []
   },
   "outputs": [
    {
     "data": {
      "text/plain": [
       "{'angry': 0,\n",
       " 'disgust': 1,\n",
       " 'fear': 2,\n",
       " 'happy': 3,\n",
       " 'neutral': 4,\n",
       " 'sad': 5,\n",
       " 'surprise': 6}"
      ]
     },
     "execution_count": 17,
     "metadata": {},
     "output_type": "execute_result"
    }
   ],
   "source": [
    "test_data.class_indices"
   ]
  },
  {
   "cell_type": "code",
   "execution_count": 18,
   "id": "e00d5cff",
   "metadata": {
    "_cell_guid": "966ffa71-ec0f-40a0-8b41-870fb89be444",
    "_uuid": "1999ab49-712f-41d8-a246-b85de3328686",
    "collapsed": false,
    "execution": {
     "iopub.execute_input": "2025-01-08T14:07:01.557976Z",
     "iopub.status.busy": "2025-01-08T14:07:01.556920Z",
     "iopub.status.idle": "2025-01-08T14:07:02.194415Z",
     "shell.execute_reply": "2025-01-08T14:07:02.193483Z"
    },
    "id": "POOyREFLg4ih",
    "jupyter": {
     "outputs_hidden": false
    },
    "outputId": "d32f802d-dcc1-4a47-8474-2906e1d26b62",
    "papermill": {
     "duration": 1.675719,
     "end_time": "2025-01-08T14:07:02.196604",
     "exception": false,
     "start_time": "2025-01-08T14:07:00.520885",
     "status": "completed"
    },
    "tags": []
   },
   "outputs": [
    {
     "data": {
      "text/plain": [
       "Text(0.5, 1.0, 'CNN Confusion Matrix')"
      ]
     },
     "execution_count": 18,
     "metadata": {},
     "output_type": "execute_result"
    },
    {
     "data": {
      "image/png": "[encoded data removed]",
      "text/plain": [
       "<Figure size 1500x1000 with 2 Axes>"
      ]
     },
     "metadata": {},
     "output_type": "display_data"
    }
   ],
   "source": [
    "import seaborn as sns \n",
    "from sklearn.metrics import confusion_matrix\n",
    "\n",
    "fig, ax= plt.subplots(figsize=(15,10))\n",
    "\n",
    "cm=confusion_matrix(test_data.labels, CNN_Predictions)\n",
    "\n",
    "sns.heatmap(cm, annot=True, fmt='g', ax=ax)\n",
    "\n",
    "ax.set_xlabel('Predicted labels',fontsize=15, fontweight='bold')\n",
    "ax.set_ylabel('True labels', fontsize=15, fontweight='bold')\n",
    "ax.set_title('CNN Confusion Matrix', fontsize=20, fontweight='bold')"
   ]
  },
  {
   "cell_type": "markdown",
   "id": "a16dbb64",
   "metadata": {
    "_cell_guid": "7402ec8f-d4bf-4ccf-9877-6bad30d47e16",
    "_uuid": "a930b04c-20c6-47f2-8194-2384d3bbf3a3",
    "collapsed": false,
    "id": "9-KBB9vecK3a",
    "jupyter": {
     "outputs_hidden": false
    },
    "papermill": {
     "duration": 1.073165,
     "end_time": "2025-01-08T14:07:04.320124",
     "exception": false,
     "start_time": "2025-01-08T14:07:03.246959",
     "status": "completed"
    },
    "tags": []
   },
   "source": [
    "# **Visualizing Predictions**"
   ]
  },
  {
   "cell_type": "code",
   "execution_count": 19,
   "id": "0aca92d4",
   "metadata": {
    "_cell_guid": "503ef10d-2d4d-4bdd-a60a-9ad06426d450",
    "_uuid": "e25634e6-266a-4350-b17b-fb17104c51d2",
    "collapsed": false,
    "execution": {
     "iopub.execute_input": "2025-01-08T14:07:06.405879Z",
     "iopub.status.busy": "2025-01-08T14:07:06.405502Z",
     "iopub.status.idle": "2025-01-08T14:07:06.410076Z",
     "shell.execute_reply": "2025-01-08T14:07:06.409161Z"
    },
    "id": "MZNLFgF0cK3a",
    "jupyter": {
     "outputs_hidden": false
    },
    "papermill": {
     "duration": 1.048632,
     "end_time": "2025-01-08T14:07:06.412216",
     "exception": false,
     "start_time": "2025-01-08T14:07:05.363584",
     "status": "completed"
    },
    "tags": []
   },
   "outputs": [],
   "source": [
    "Emotion_Classes = ['Angry', \n",
    "                  'Disgust', \n",
    "                  'Fear', \n",
    "                  'Happy', \n",
    "                  'Neutral', \n",
    "                  'Sad', \n",
    "                  'Surprise']"
   ]
  },
  {
   "cell_type": "code",
   "execution_count": 20,
   "id": "ad5776e2",
   "metadata": {
    "_cell_guid": "0a38b5d7-7fbd-4a33-b980-b98e7e2ad82f",
    "_uuid": "909ee9de-df46-4ab7-a180-e8ecaff4e2d3",
    "collapsed": false,
    "execution": {
     "iopub.execute_input": "2025-01-08T14:07:08.478949Z",
     "iopub.status.busy": "2025-01-08T14:07:08.478022Z",
     "iopub.status.idle": "2025-01-08T14:07:08.906287Z",
     "shell.execute_reply": "2025-01-08T14:07:08.905086Z"
    },
    "id": "lfdvcajhcK3a",
    "jupyter": {
     "outputs_hidden": false
    },
    "outputId": "d4431b10-d724-46a1-c3e1-40a8bc799915",
    "papermill": {
     "duration": 1.468968,
     "end_time": "2025-01-08T14:07:08.908378",
     "exception": false,
     "start_time": "2025-01-08T14:07:07.439410",
     "status": "completed"
    },
    "tags": []
   },
   "outputs": [
    {
     "name": "stdout",
     "output_type": "stream",
     "text": [
      "Found 7178 images belonging to 7 classes.\n"
     ]
    }
   ],
   "source": [
    "# Shuffling Test Data to show diffrent classes\n",
    "test_preprocessor = ImageDataGenerator(\n",
    "        rescale = 1 / 255.,\n",
    "    )\n",
    "\n",
    "test_generator = test_preprocessor.flow_from_directory(\n",
    "    test_data_path,\n",
    "    class_mode=\"categorical\",\n",
    "    target_size=(img_shape,img_shape),\n",
    "    color_mode=\"rgb\",\n",
    "    shuffle=True,\n",
    "    batch_size=batch_size,\n",
    ")"
   ]
  },
  {
   "cell_type": "markdown",
   "id": "b7f9a7f7",
   "metadata": {
    "_cell_guid": "17767c67-6741-474f-8d08-5bb3389335d8",
    "_uuid": "ec8020cf-5bf1-4e0f-bd77-5d7f221b1590",
    "collapsed": false,
    "id": "v_55MRiycK3a",
    "jupyter": {
     "outputs_hidden": false
    },
    "papermill": {
     "duration": 1.026011,
     "end_time": "2025-01-08T14:07:10.896396",
     "exception": false,
     "start_time": "2025-01-08T14:07:09.870385",
     "status": "completed"
    },
    "tags": []
   },
   "source": [
    "**CNN Predictions**"
   ]
  },
  {
   "cell_type": "code",
   "execution_count": 21,
   "id": "37d8f0a1",
   "metadata": {
    "_cell_guid": "feb376b4-35ce-48cd-bf6f-0ec9b6565c30",
    "_uuid": "85d4adf3-fee4-4951-b13f-c482a28d0280",
    "collapsed": false,
    "execution": {
     "iopub.execute_input": "2025-01-08T14:07:12.976214Z",
     "iopub.status.busy": "2025-01-08T14:07:12.975857Z",
     "iopub.status.idle": "2025-01-08T14:07:15.977384Z",
     "shell.execute_reply": "2025-01-08T14:07:15.976489Z"
    },
    "id": "WPUMun3Yg4ip",
    "jupyter": {
     "outputs_hidden": false
    },
    "outputId": "ae53dd6e-b39f-4668-a118-13b1ef0c8b10",
    "papermill": {
     "duration": 4.0436,
     "end_time": "2025-01-08T14:07:15.979481",
     "exception": false,
     "start_time": "2025-01-08T14:07:11.935881",
     "status": "completed"
    },
    "tags": []
   },
   "outputs": [
    {
     "data": {
      "image/png": "[encoded data removed]",
      "text/plain": [
       "<Figure size 2500x1000 with 10 Axes>"
      ]
     },
     "metadata": {},
     "output_type": "display_data"
    },
    {
     "data": {
      "text/plain": [
       "<Figure size 640x480 with 0 Axes>"
      ]
     },
     "metadata": {},
     "output_type": "display_data"
    }
   ],
   "source": [
    "# Display 10 random pictures from the dataset with their labels\n",
    "\n",
    "Random_batch = np.random.randint(0, len(test_generator) - 1)\n",
    "\n",
    "Random_Img_Index = np.random.randint(0, batch_size - 1 , 10)\n",
    "\n",
    "fig, axes = plt.subplots(nrows=2, ncols=5, figsize=(25, 10),\n",
    "                        subplot_kw={'xticks': [], 'yticks': []})\n",
    "\n",
    "for i, ax in enumerate(axes.flat):\n",
    "\n",
    "    Random_Img = test_generator[Random_batch][0][Random_Img_Index[i]]\n",
    "\n",
    "    Random_Img_Label = np.argmax(test_generator[Random_batch][1][Random_Img_Index[i]])\n",
    "\n",
    "    Model_Prediction = np.argmax(CNN_Model.predict( tf.expand_dims(Random_Img, axis=0) , verbose=0))\n",
    "\n",
    "    ax.imshow(Random_Img)\n",
    "\n",
    "    if Emotion_Classes[Random_Img_Label] == Emotion_Classes[Model_Prediction]:\n",
    "          color = \"green\"\n",
    "    else:\n",
    "          color = \"red\"\n",
    "    ax.set_title(f\"True: {Emotion_Classes[Random_Img_Label]}\\nPredicted: {Emotion_Classes[Model_Prediction]}\", color=color)\n",
    "plt.show()\n",
    "plt.tight_layout()"
   ]
  },
  {
   "cell_type": "markdown",
   "id": "9aa309eb",
   "metadata": {
    "_cell_guid": "6b0559e5-70c3-4230-a5f6-11b1901bc34a",
    "_uuid": "3e60b8cb-0f4d-46de-9d22-22044b7d4e0f",
    "collapsed": false,
    "id": "itHZWvvzcK3d",
    "jupyter": {
     "outputs_hidden": false
    },
    "papermill": {
     "duration": 1.037513,
     "end_time": "2025-01-08T14:07:18.070633",
     "exception": false,
     "start_time": "2025-01-08T14:07:17.033120",
     "status": "completed"
    },
    "tags": []
   },
   "source": [
    "# **Music Player**"
   ]
  },
  {
   "cell_type": "code",
   "execution_count": 22,
   "id": "e19af264",
   "metadata": {
    "_cell_guid": "7db1747b-367f-48e8-980c-1e23c03f4c5b",
    "_uuid": "5399465f-886e-4fef-9fb8-28c7262b77f4",
    "collapsed": false,
    "execution": {
     "iopub.execute_input": "2025-01-08T14:07:20.132573Z",
     "iopub.status.busy": "2025-01-08T14:07:20.132205Z",
     "iopub.status.idle": "2025-01-08T14:07:20.169257Z",
     "shell.execute_reply": "2025-01-08T14:07:20.168333Z"
    },
    "id": "Clp4WedccK3d",
    "jupyter": {
     "outputs_hidden": false
    },
    "papermill": {
     "duration": 1.066661,
     "end_time": "2025-01-08T14:07:20.171375",
     "exception": false,
     "start_time": "2025-01-08T14:07:19.104714",
     "status": "completed"
    },
    "tags": []
   },
   "outputs": [
    {
     "data": {
      "text/html": [
       "<div>\n",
       "<style scoped>\n",
       "    .dataframe tbody tr th:only-of-type {\n",
       "        vertical-align: middle;\n",
       "    }\n",
       "\n",
       "    .dataframe tbody tr th {\n",
       "        vertical-align: top;\n",
       "    }\n",
       "\n",
       "    .dataframe thead th {\n",
       "        text-align: right;\n",
       "    }\n",
       "</style>\n",
       "<table border=\"1\" class=\"dataframe\">\n",
       "  <thead>\n",
       "    <tr style=\"text-align: right;\">\n",
       "      <th></th>\n",
       "      <th>name</th>\n",
       "      <th>album</th>\n",
       "      <th>artist</th>\n",
       "      <th>id</th>\n",
       "      <th>release_date</th>\n",
       "      <th>popularity</th>\n",
       "      <th>length</th>\n",
       "      <th>danceability</th>\n",
       "      <th>acousticness</th>\n",
       "      <th>energy</th>\n",
       "      <th>instrumentalness</th>\n",
       "      <th>liveness</th>\n",
       "      <th>valence</th>\n",
       "      <th>loudness</th>\n",
       "      <th>speechiness</th>\n",
       "      <th>tempo</th>\n",
       "      <th>key</th>\n",
       "      <th>time_signature</th>\n",
       "      <th>mood</th>\n",
       "    </tr>\n",
       "  </thead>\n",
       "  <tbody>\n",
       "    <tr>\n",
       "      <th>0</th>\n",
       "      <td>1999</td>\n",
       "      <td>1999</td>\n",
       "      <td>Prince</td>\n",
       "      <td>2H7PHVdQ3mXqEHXcvclTB0</td>\n",
       "      <td>1982-10-27</td>\n",
       "      <td>68</td>\n",
       "      <td>379266</td>\n",
       "      <td>0.866</td>\n",
       "      <td>0.13700</td>\n",
       "      <td>0.730</td>\n",
       "      <td>0.000000</td>\n",
       "      <td>0.0843</td>\n",
       "      <td>0.625</td>\n",
       "      <td>-8.201</td>\n",
       "      <td>0.0767</td>\n",
       "      <td>118.523</td>\n",
       "      <td>5</td>\n",
       "      <td>4</td>\n",
       "      <td>Happy</td>\n",
       "    </tr>\n",
       "    <tr>\n",
       "      <th>1</th>\n",
       "      <td>23</td>\n",
       "      <td>23</td>\n",
       "      <td>Blonde Redhead</td>\n",
       "      <td>4HIwL9ii9CcXpTOTzMq0MP</td>\n",
       "      <td>2007-04-16</td>\n",
       "      <td>43</td>\n",
       "      <td>318800</td>\n",
       "      <td>0.381</td>\n",
       "      <td>0.01890</td>\n",
       "      <td>0.832</td>\n",
       "      <td>0.196000</td>\n",
       "      <td>0.1530</td>\n",
       "      <td>0.166</td>\n",
       "      <td>-5.069</td>\n",
       "      <td>0.0492</td>\n",
       "      <td>120.255</td>\n",
       "      <td>8</td>\n",
       "      <td>4</td>\n",
       "      <td>Sad</td>\n",
       "    </tr>\n",
       "    <tr>\n",
       "      <th>2</th>\n",
       "      <td>9 Crimes</td>\n",
       "      <td>9</td>\n",
       "      <td>Damien Rice</td>\n",
       "      <td>5GZEeowhvSieFDiR8fQ2im</td>\n",
       "      <td>2006-11-06</td>\n",
       "      <td>60</td>\n",
       "      <td>217946</td>\n",
       "      <td>0.346</td>\n",
       "      <td>0.91300</td>\n",
       "      <td>0.139</td>\n",
       "      <td>0.000077</td>\n",
       "      <td>0.0934</td>\n",
       "      <td>0.116</td>\n",
       "      <td>-15.326</td>\n",
       "      <td>0.0321</td>\n",
       "      <td>136.168</td>\n",
       "      <td>0</td>\n",
       "      <td>4</td>\n",
       "      <td>Sad</td>\n",
       "    </tr>\n",
       "    <tr>\n",
       "      <th>3</th>\n",
       "      <td>99 Luftballons</td>\n",
       "      <td>99 Luftballons</td>\n",
       "      <td>Nena</td>\n",
       "      <td>6HA97v4wEGQ5TUClRM0XLc</td>\n",
       "      <td>1984-08-21</td>\n",
       "      <td>2</td>\n",
       "      <td>233000</td>\n",
       "      <td>0.466</td>\n",
       "      <td>0.08900</td>\n",
       "      <td>0.438</td>\n",
       "      <td>0.000006</td>\n",
       "      <td>0.1130</td>\n",
       "      <td>0.587</td>\n",
       "      <td>-12.858</td>\n",
       "      <td>0.0608</td>\n",
       "      <td>193.100</td>\n",
       "      <td>4</td>\n",
       "      <td>4</td>\n",
       "      <td>Happy</td>\n",
       "    </tr>\n",
       "    <tr>\n",
       "      <th>4</th>\n",
       "      <td>A Boy Brushed Red Living In Black And White</td>\n",
       "      <td>They're Only Chasing Safety</td>\n",
       "      <td>Underoath</td>\n",
       "      <td>47IWLfIKOKhFnz1FUEUIkE</td>\n",
       "      <td>2004-01-01</td>\n",
       "      <td>60</td>\n",
       "      <td>268000</td>\n",
       "      <td>0.419</td>\n",
       "      <td>0.00171</td>\n",
       "      <td>0.932</td>\n",
       "      <td>0.000000</td>\n",
       "      <td>0.1370</td>\n",
       "      <td>0.445</td>\n",
       "      <td>-3.604</td>\n",
       "      <td>0.1060</td>\n",
       "      <td>169.881</td>\n",
       "      <td>1</td>\n",
       "      <td>4</td>\n",
       "      <td>Energetic</td>\n",
       "    </tr>\n",
       "  </tbody>\n",
       "</table>\n",
       "</div>"
      ],
      "text/plain": [
       "                                          name                        album  \\\n",
       "0                                         1999                         1999   \n",
       "1                                           23                           23   \n",
       "2                                     9 Crimes                            9   \n",
       "3                               99 Luftballons               99 Luftballons   \n",
       "4  A Boy Brushed Red Living In Black And White  They're Only Chasing Safety   \n",
       "\n",
       "           artist                      id release_date  popularity  length  \\\n",
       "0          Prince  2H7PHVdQ3mXqEHXcvclTB0   1982-10-27          68  379266   \n",
       "1  Blonde Redhead  4HIwL9ii9CcXpTOTzMq0MP   2007-04-16          43  318800   \n",
       "2     Damien Rice  5GZEeowhvSieFDiR8fQ2im   2006-11-06          60  217946   \n",
       "3            Nena  6HA97v4wEGQ5TUClRM0XLc   1984-08-21           2  233000   \n",
       "4       Underoath  47IWLfIKOKhFnz1FUEUIkE   2004-01-01          60  268000   \n",
       "\n",
       "   danceability  acousticness  energy  instrumentalness  liveness  valence  \\\n",
       "0         0.866       0.13700   0.730          0.000000    0.0843    0.625   \n",
       "1         0.381       0.01890   0.832          0.196000    0.1530    0.166   \n",
       "2         0.346       0.91300   0.139          0.000077    0.0934    0.116   \n",
       "3         0.466       0.08900   0.438          0.000006    0.1130    0.587   \n",
       "4         0.419       0.00171   0.932          0.000000    0.1370    0.445   \n",
       "\n",
       "   loudness  speechiness    tempo  key  time_signature       mood  \n",
       "0    -8.201       0.0767  118.523    5               4      Happy  \n",
       "1    -5.069       0.0492  120.255    8               4        Sad  \n",
       "2   -15.326       0.0321  136.168    0               4        Sad  \n",
       "3   -12.858       0.0608  193.100    4               4      Happy  \n",
       "4    -3.604       0.1060  169.881    1               4  Energetic  "
      ]
     },
     "execution_count": 22,
     "metadata": {},
     "output_type": "execute_result"
    }
   ],
   "source": [
    "Music_Player = pd.read_csv(\"../input/spotify-music-data-to-identify-the-moods/data_moods.csv\")\n",
    "#Music_Player = Music_Player[['name','artist','mood','popularity']]\n",
    "Music_Player.head()"
   ]
  },
  {
   "cell_type": "code",
   "execution_count": 23,
   "id": "a7c633fc",
   "metadata": {
    "_cell_guid": "e96b8f0e-f7d9-4334-9437-15c076c74b2f",
    "_uuid": "85721594-ed4f-4ea8-bb94-8a811208cb87",
    "collapsed": false,
    "execution": {
     "iopub.execute_input": "2025-01-08T14:07:22.176050Z",
     "iopub.status.busy": "2025-01-08T14:07:22.175447Z",
     "iopub.status.idle": "2025-01-08T14:07:22.183946Z",
     "shell.execute_reply": "2025-01-08T14:07:22.183221Z"
    },
    "id": "j0Dqm_PccK3d",
    "jupyter": {
     "outputs_hidden": false
    },
    "papermill": {
     "duration": 1.036938,
     "end_time": "2025-01-08T14:07:22.185938",
     "exception": false,
     "start_time": "2025-01-08T14:07:21.149000",
     "status": "completed"
    },
    "tags": []
   },
   "outputs": [
    {
     "data": {
      "text/plain": [
       "Sad          197\n",
       "Calm         195\n",
       "Energetic    154\n",
       "Happy        140\n",
       "Name: mood, dtype: int64"
      ]
     },
     "execution_count": 23,
     "metadata": {},
     "output_type": "execute_result"
    }
   ],
   "source": [
    "Music_Player[\"mood\"].value_counts()"
   ]
  },
  {
   "cell_type": "code",
   "execution_count": 24,
   "id": "c98e856f",
   "metadata": {
    "_cell_guid": "d28f6c7f-c45b-4366-ae5d-9d21f0484e96",
    "_uuid": "8ce7f284-b212-4c27-9d96-c349233c081c",
    "collapsed": false,
    "execution": {
     "iopub.execute_input": "2025-01-08T14:07:24.390233Z",
     "iopub.status.busy": "2025-01-08T14:07:24.389859Z",
     "iopub.status.idle": "2025-01-08T14:07:24.397886Z",
     "shell.execute_reply": "2025-01-08T14:07:24.396998Z"
    },
    "id": "UzlWiV9AcK3e",
    "jupyter": {
     "outputs_hidden": false
    },
    "papermill": {
     "duration": 1.125359,
     "end_time": "2025-01-08T14:07:24.399643",
     "exception": false,
     "start_time": "2025-01-08T14:07:23.274284",
     "status": "completed"
    },
    "tags": []
   },
   "outputs": [
    {
     "data": {
      "text/plain": [
       "0     92\n",
       "51    23\n",
       "52    22\n",
       "50    21\n",
       "55    21\n",
       "      ..\n",
       "80     1\n",
       "2      1\n",
       "14     1\n",
       "15     1\n",
       "88     1\n",
       "Name: popularity, Length: 83, dtype: int64"
      ]
     },
     "execution_count": 24,
     "metadata": {},
     "output_type": "execute_result"
    }
   ],
   "source": [
    "Music_Player[\"popularity\"].value_counts()"
   ]
  },
  {
   "cell_type": "code",
   "execution_count": 25,
   "id": "2daae8b8",
   "metadata": {
    "_cell_guid": "a3476397-a4c6-48ff-ab5f-077594f9dc31",
    "_uuid": "4612c9c5-8455-46e4-b1c8-198eed432ea5",
    "collapsed": false,
    "execution": {
     "iopub.execute_input": "2025-01-08T14:07:26.478851Z",
     "iopub.status.busy": "2025-01-08T14:07:26.478500Z",
     "iopub.status.idle": "2025-01-08T14:07:26.499233Z",
     "shell.execute_reply": "2025-01-08T14:07:26.498443Z"
    },
    "id": "_wFUR5WCcK3e",
    "jupyter": {
     "outputs_hidden": false
    },
    "papermill": {
     "duration": 1.057307,
     "end_time": "2025-01-08T14:07:26.500872",
     "exception": false,
     "start_time": "2025-01-08T14:07:25.443565",
     "status": "completed"
    },
    "tags": []
   },
   "outputs": [
    {
     "data": {
      "text/html": [
       "<div>\n",
       "<style scoped>\n",
       "    .dataframe tbody tr th:only-of-type {\n",
       "        vertical-align: middle;\n",
       "    }\n",
       "\n",
       "    .dataframe tbody tr th {\n",
       "        vertical-align: top;\n",
       "    }\n",
       "\n",
       "    .dataframe thead th {\n",
       "        text-align: right;\n",
       "    }\n",
       "</style>\n",
       "<table border=\"1\" class=\"dataframe\">\n",
       "  <thead>\n",
       "    <tr style=\"text-align: right;\">\n",
       "      <th></th>\n",
       "      <th>name</th>\n",
       "      <th>album</th>\n",
       "      <th>artist</th>\n",
       "      <th>id</th>\n",
       "      <th>release_date</th>\n",
       "      <th>popularity</th>\n",
       "      <th>length</th>\n",
       "      <th>danceability</th>\n",
       "      <th>acousticness</th>\n",
       "      <th>energy</th>\n",
       "      <th>instrumentalness</th>\n",
       "      <th>liveness</th>\n",
       "      <th>valence</th>\n",
       "      <th>loudness</th>\n",
       "      <th>speechiness</th>\n",
       "      <th>tempo</th>\n",
       "      <th>key</th>\n",
       "      <th>time_signature</th>\n",
       "      <th>mood</th>\n",
       "    </tr>\n",
       "  </thead>\n",
       "  <tbody>\n",
       "    <tr>\n",
       "      <th>0</th>\n",
       "      <td>Lost</td>\n",
       "      <td>Lost</td>\n",
       "      <td>Annelie</td>\n",
       "      <td>7nC2EOpMnpDT2DkvniimSm</td>\n",
       "      <td>2020-06-05</td>\n",
       "      <td>64</td>\n",
       "      <td>161520</td>\n",
       "      <td>0.389</td>\n",
       "      <td>0.972</td>\n",
       "      <td>0.100</td>\n",
       "      <td>0.934</td>\n",
       "      <td>0.113</td>\n",
       "      <td>0.0676</td>\n",
       "      <td>-22.464</td>\n",
       "      <td>0.0358</td>\n",
       "      <td>133.839</td>\n",
       "      <td>10</td>\n",
       "      <td>4</td>\n",
       "      <td>Calm</td>\n",
       "    </tr>\n",
       "    <tr>\n",
       "      <th>1</th>\n",
       "      <td>Curiosity</td>\n",
       "      <td>Curiosity</td>\n",
       "      <td>Beau Projet</td>\n",
       "      <td>3WEdWvAScE1EcBfErseQnC</td>\n",
       "      <td>2019-03-21</td>\n",
       "      <td>60</td>\n",
       "      <td>155820</td>\n",
       "      <td>0.430</td>\n",
       "      <td>0.985</td>\n",
       "      <td>0.256</td>\n",
       "      <td>0.867</td>\n",
       "      <td>0.106</td>\n",
       "      <td>0.1730</td>\n",
       "      <td>-22.088</td>\n",
       "      <td>0.0641</td>\n",
       "      <td>133.955</td>\n",
       "      <td>2</td>\n",
       "      <td>4</td>\n",
       "      <td>Calm</td>\n",
       "    </tr>\n",
       "    <tr>\n",
       "      <th>2</th>\n",
       "      <td>Escaping Time</td>\n",
       "      <td>Floating</td>\n",
       "      <td>Benjamin Martins</td>\n",
       "      <td>7JrSIPcfkWhDzxWII8Jz7V</td>\n",
       "      <td>2019-10-21</td>\n",
       "      <td>60</td>\n",
       "      <td>200346</td>\n",
       "      <td>0.320</td>\n",
       "      <td>0.640</td>\n",
       "      <td>0.256</td>\n",
       "      <td>0.862</td>\n",
       "      <td>0.112</td>\n",
       "      <td>0.1910</td>\n",
       "      <td>-17.980</td>\n",
       "      <td>0.0445</td>\n",
       "      <td>115.011</td>\n",
       "      <td>10</td>\n",
       "      <td>4</td>\n",
       "      <td>Calm</td>\n",
       "    </tr>\n",
       "    <tr>\n",
       "      <th>3</th>\n",
       "      <td>Just Look at You</td>\n",
       "      <td>432 Water Crystals</td>\n",
       "      <td>369</td>\n",
       "      <td>62X7ld1sa8RHl4zRtSvfHf</td>\n",
       "      <td>2020-02-21</td>\n",
       "      <td>59</td>\n",
       "      <td>187385</td>\n",
       "      <td>0.558</td>\n",
       "      <td>0.985</td>\n",
       "      <td>0.249</td>\n",
       "      <td>0.925</td>\n",
       "      <td>0.103</td>\n",
       "      <td>0.1110</td>\n",
       "      <td>-14.715</td>\n",
       "      <td>0.0303</td>\n",
       "      <td>94.991</td>\n",
       "      <td>7</td>\n",
       "      <td>4</td>\n",
       "      <td>Calm</td>\n",
       "    </tr>\n",
       "    <tr>\n",
       "      <th>4</th>\n",
       "      <td>Vague</td>\n",
       "      <td>Envision</td>\n",
       "      <td>Amaranth Cove</td>\n",
       "      <td>3IOXceWmoCrTyl5TXFDzWu</td>\n",
       "      <td>2020-01-03</td>\n",
       "      <td>59</td>\n",
       "      <td>143000</td>\n",
       "      <td>0.320</td>\n",
       "      <td>0.881</td>\n",
       "      <td>0.253</td>\n",
       "      <td>0.935</td>\n",
       "      <td>0.121</td>\n",
       "      <td>0.1250</td>\n",
       "      <td>-17.843</td>\n",
       "      <td>0.0356</td>\n",
       "      <td>140.029</td>\n",
       "      <td>10</td>\n",
       "      <td>4</td>\n",
       "      <td>Calm</td>\n",
       "    </tr>\n",
       "  </tbody>\n",
       "</table>\n",
       "</div>"
      ],
      "text/plain": [
       "               name               album            artist  \\\n",
       "0              Lost                Lost           Annelie   \n",
       "1         Curiosity           Curiosity       Beau Projet   \n",
       "2     Escaping Time            Floating  Benjamin Martins   \n",
       "3  Just Look at You  432 Water Crystals               369   \n",
       "4             Vague            Envision     Amaranth Cove   \n",
       "\n",
       "                       id release_date  popularity  length  danceability  \\\n",
       "0  7nC2EOpMnpDT2DkvniimSm   2020-06-05          64  161520         0.389   \n",
       "1  3WEdWvAScE1EcBfErseQnC   2019-03-21          60  155820         0.430   \n",
       "2  7JrSIPcfkWhDzxWII8Jz7V   2019-10-21          60  200346         0.320   \n",
       "3  62X7ld1sa8RHl4zRtSvfHf   2020-02-21          59  187385         0.558   \n",
       "4  3IOXceWmoCrTyl5TXFDzWu   2020-01-03          59  143000         0.320   \n",
       "\n",
       "   acousticness  energy  instrumentalness  liveness  valence  loudness  \\\n",
       "0         0.972   0.100             0.934     0.113   0.0676   -22.464   \n",
       "1         0.985   0.256             0.867     0.106   0.1730   -22.088   \n",
       "2         0.640   0.256             0.862     0.112   0.1910   -17.980   \n",
       "3         0.985   0.249             0.925     0.103   0.1110   -14.715   \n",
       "4         0.881   0.253             0.935     0.121   0.1250   -17.843   \n",
       "\n",
       "   speechiness    tempo  key  time_signature  mood  \n",
       "0       0.0358  133.839   10               4  Calm  \n",
       "1       0.0641  133.955    2               4  Calm  \n",
       "2       0.0445  115.011   10               4  Calm  \n",
       "3       0.0303   94.991    7               4  Calm  \n",
       "4       0.0356  140.029   10               4  Calm  "
      ]
     },
     "metadata": {},
     "output_type": "display_data"
    }
   ],
   "source": [
    "Play = Music_Player[Music_Player['mood'] =='Calm' ]\n",
    "Play = Play.sort_values(by=\"popularity\", ascending=False)\n",
    "Play = Play[:5].reset_index(drop=True)\n",
    "display(Play)"
   ]
  },
  {
   "cell_type": "code",
   "execution_count": 26,
   "id": "803a3596",
   "metadata": {
    "_cell_guid": "4835db0c-767c-4ab4-aa8f-e898da54442c",
    "_uuid": "070f8d63-af4a-4835-9be2-588592b2c307",
    "collapsed": false,
    "execution": {
     "iopub.execute_input": "2025-01-08T14:07:28.532832Z",
     "iopub.status.busy": "2025-01-08T14:07:28.532481Z",
     "iopub.status.idle": "2025-01-08T14:07:28.539876Z",
     "shell.execute_reply": "2025-01-08T14:07:28.539066Z"
    },
    "id": "G9jZq-NIcK3e",
    "jupyter": {
     "outputs_hidden": false
    },
    "papermill": {
     "duration": 1.055052,
     "end_time": "2025-01-08T14:07:28.541635",
     "exception": false,
     "start_time": "2025-01-08T14:07:27.486583",
     "status": "completed"
    },
    "tags": []
   },
   "outputs": [],
   "source": [
    "# Making Songs Recommendations Based on Predicted Class\n",
    "def Recommend_Songs(pred_class):\n",
    "    \n",
    "    if( pred_class=='Disgust' ):\n",
    "\n",
    "        Play = Music_Player[Music_Player['mood'] =='Sad' ]\n",
    "        Play = Play.sort_values(by=\"popularity\", ascending=False)\n",
    "        Play = Play[:5].reset_index(drop=True)\n",
    "        display(Play)\n",
    "\n",
    "    if( pred_class=='Happy' or pred_class=='Sad' ):\n",
    "\n",
    "        Play = Music_Player[Music_Player['mood'] =='Happy' ]\n",
    "        Play = Play.sort_values(by=\"popularity\", ascending=False)\n",
    "        Play = Play[:5].reset_index(drop=True)\n",
    "        display(Play)\n",
    "\n",
    "    if( pred_class=='Fear' or pred_class=='Angry' ):\n",
    "\n",
    "        Play = Music_Player[Music_Player['mood'] =='Calm' ]\n",
    "        Play = Play.sort_values(by=\"popularity\", ascending=False)\n",
    "        Play = Play[:5].reset_index(drop=True)\n",
    "        display(Play)\n",
    "\n",
    "    if( pred_class=='Surprise' or pred_class=='Neutral' ):\n",
    "\n",
    "        Play = Music_Player[Music_Player['mood'] =='Energetic' ]\n",
    "        Play = Play.sort_values(by=\"popularity\", ascending=False)\n",
    "        Play = Play[:5].reset_index(drop=True)\n",
    "        display(Play)"
   ]
  },
  {
   "cell_type": "markdown",
   "id": "b0540fff",
   "metadata": {
    "_cell_guid": "7f564451-e8aa-40a1-8a78-de9d0002a46a",
    "_uuid": "f600b757-e85a-4ab0-8a21-698e545c88c5",
    "collapsed": false,
    "id": "Lzx3wYuScK3b",
    "jupyter": {
     "outputs_hidden": false
    },
    "papermill": {
     "duration": 1.04781,
     "end_time": "2025-01-08T14:07:30.625414",
     "exception": false,
     "start_time": "2025-01-08T14:07:29.577604",
     "status": "completed"
    },
    "tags": []
   },
   "source": [
    "# **Predicting New Images**"
   ]
  },
  {
   "cell_type": "markdown",
   "id": "c8b9a6d1",
   "metadata": {
    "_cell_guid": "17cc4bd4-0eb9-4a63-a70e-898358c53dec",
    "_uuid": "bd2f8d7b-fea2-4558-9fa2-8b143f2b51d4",
    "collapsed": false,
    "id": "vKPKFGZGPAgK",
    "jupyter": {
     "outputs_hidden": false
    },
    "papermill": {
     "duration": 1.032334,
     "end_time": "2025-01-08T14:07:32.633714",
     "exception": false,
     "start_time": "2025-01-08T14:07:31.601380",
     "status": "completed"
    },
    "tags": []
   },
   "source": [
    "**Downloading OpenCV haarcascade frontalface Detection**"
   ]
  },
  {
   "cell_type": "code",
   "execution_count": 27,
   "id": "d0d700c7",
   "metadata": {
    "_cell_guid": "be42f5d1-1573-44bf-a50a-6da5c738484b",
    "_uuid": "a876538d-3966-491d-bad3-93bddbd02bf8",
    "collapsed": false,
    "execution": {
     "iopub.execute_input": "2025-01-08T14:07:34.740641Z",
     "iopub.status.busy": "2025-01-08T14:07:34.740302Z",
     "iopub.status.idle": "2025-01-08T14:07:36.168764Z",
     "shell.execute_reply": "2025-01-08T14:07:36.167778Z"
    },
    "id": "HELIc8QYcK3b",
    "jupyter": {
     "outputs_hidden": false
    },
    "papermill": {
     "duration": 2.46477,
     "end_time": "2025-01-08T14:07:36.170920",
     "exception": false,
     "start_time": "2025-01-08T14:07:33.706150",
     "status": "completed"
    },
    "tags": []
   },
   "outputs": [
    {
     "name": "stdout",
     "output_type": "stream",
     "text": [
      "--2025-01-08 14:07:35--  https://raw.githubusercontent.com/opencv/opencv/master/data/haarcascades/haarcascade_frontalface_default.xml\r\n",
      "Resolving raw.githubusercontent.com (raw.githubusercontent.com)... 185.199.109.133, 185.199.110.133, 185.199.111.133, ...\r\n",
      "Connecting to raw.githubusercontent.com (raw.githubusercontent.com)|185.199.109.133|:443... connected.\r\n",
      "HTTP request sent, awaiting response... 200 OK\r\n",
      "Length: 930127 (908K) [text/plain]\r\n",
      "Saving to: ‘haarcascade_frontalface_default.xml’\r\n",
      "\r\n",
      "haarcascade_frontal 100%[===================>] 908.33K  --.-KB/s    in 0.006s  \r\n",
      "\r\n",
      "2025-01-08 14:07:36 (145 MB/s) - ‘haarcascade_frontalface_default.xml’ saved [930127/930127]\r\n",
      "\r\n"
     ]
    }
   ],
   "source": [
    "# Tải model phát hiện mặt người\n",
    "!wget https://raw.githubusercontent.com/opencv/opencv/master/data/haarcascades/haarcascade_frontalface_default.xml\n",
    "    \n",
    "faceCascade = cv2.CascadeClassifier(\"haarcascade_frontalface_default.xml\")"
   ]
  },
  {
   "cell_type": "code",
   "execution_count": 28,
   "id": "7368c974",
   "metadata": {
    "_cell_guid": "7bcc694b-6498-4448-b17b-697bc9ebf75d",
    "_uuid": "1e7e8463-6eda-47d6-a34e-0d10bf5453fd",
    "collapsed": false,
    "execution": {
     "iopub.execute_input": "2025-01-08T14:07:38.197336Z",
     "iopub.status.busy": "2025-01-08T14:07:38.196322Z",
     "iopub.status.idle": "2025-01-08T14:07:38.204290Z",
     "shell.execute_reply": "2025-01-08T14:07:38.203465Z"
    },
    "id": "tc6rfKoZcK3b",
    "jupyter": {
     "outputs_hidden": false
    },
    "papermill": {
     "duration": 1.066,
     "end_time": "2025-01-08T14:07:38.205993",
     "exception": false,
     "start_time": "2025-01-08T14:07:37.139993",
     "status": "completed"
    },
    "tags": []
   },
   "outputs": [],
   "source": [
    "def load_and_prep_image(filename):\n",
    "    \"\"\"\n",
    "    Đọc và tiền xử lý ảnh cho model CNN\n",
    "    Input:\n",
    "        filename: đường dẫn đến file ảnh\n",
    "    Output:\n",
    "        RGBImg: ảnh đã được xử lý có shape (48, 48, 3)\n",
    "    \"\"\"\n",
    "    # Đọc ảnh\n",
    "    img = cv2.imread(filename)\n",
    "    if img is None:\n",
    "        raise ValueError(\"Không thể đọc ảnh từ đường dẫn đã cho\")\n",
    "    \n",
    "    # Chuyển ảnh sang ảnh xám\n",
    "    GrayImg = cv2.cvtColor(img, cv2.COLOR_BGR2GRAY)\n",
    "    \n",
    "    # Phát hiện khuôn mặt\n",
    "    faces = faceCascade.detectMultiScale(GrayImg, 1.1, 4)\n",
    "    \n",
    "    # Nếu tìm thấy khuôn mặt, cắt và xử lý vùng khuôn mặt\n",
    "    if len(faces) > 0:\n",
    "        # Lấy khuôn mặt đầu tiên được phát hiện\n",
    "        x, y, w, h = faces[0]\n",
    "        face_img = img[y:y + h, x:x + w]\n",
    "    else:\n",
    "        # Nếu không tìm thấy khuôn mặt, sử dụng ảnh gốc\n",
    "        face_img = img\n",
    "    \n",
    "    # Chuyển sang RGB và resize thành 48x48\n",
    "    # (sqrt(6400) = 80, nhưng do lỗi 20736 = 144x144 nên ta thử 48x48)\n",
    "    RGBImg = cv2.cvtColor(face_img, cv2.COLOR_BGR2RGB)\n",
    "    RGBImg = cv2.resize(RGBImg, (48, 48))\n",
    "    \n",
    "    # Đảm bảo ảnh là RGB\n",
    "    if len(RGBImg.shape) == 2:\n",
    "        RGBImg = cv2.cvtColor(RGBImg, cv2.COLOR_GRAY2RGB)\n",
    "    \n",
    "    # Chuẩn hóa ảnh\n",
    "    RGBImg = RGBImg / 255.0\n",
    "    \n",
    "    return RGBImg"
   ]
  },
  {
   "cell_type": "code",
   "execution_count": 29,
   "id": "91ca8c75",
   "metadata": {
    "_cell_guid": "70a107b5-9c22-404d-98f2-b86c0e86d967",
    "_uuid": "231d0466-1a8e-44a2-92d3-8ab7271b8d9c",
    "collapsed": false,
    "execution": {
     "iopub.execute_input": "2025-01-08T14:07:40.288082Z",
     "iopub.status.busy": "2025-01-08T14:07:40.287717Z",
     "iopub.status.idle": "2025-01-08T14:07:40.294568Z",
     "shell.execute_reply": "2025-01-08T14:07:40.293671Z"
    },
    "id": "sVYUG7rKcK3c",
    "jupyter": {
     "outputs_hidden": false
    },
    "papermill": {
     "duration": 1.054135,
     "end_time": "2025-01-08T14:07:40.296324",
     "exception": false,
     "start_time": "2025-01-08T14:07:39.242189",
     "status": "completed"
    },
    "tags": []
   },
   "outputs": [],
   "source": [
    "def pred_and_plot(filename, class_names):\n",
    "    \"\"\"\n",
    "    Dự đoán cảm xúc từ ảnh và hiển thị kết quả\n",
    "    \"\"\"\n",
    "    # Chuẩn bị ảnh\n",
    "    img = load_and_prep_image(filename)\n",
    "    \n",
    "    # In ra shape của ảnh để kiểm tra\n",
    "    print(\"Image shape before batch:\", img.shape)\n",
    "    \n",
    "    # Thêm chiều batch\n",
    "    img_batch = np.expand_dims(img, axis=0)\n",
    "    print(\"Image shape after batch:\", img_batch.shape)\n",
    "    \n",
    "    # Dự đoán\n",
    "    pred = CNN_Model.predict(img_batch)\n",
    "    \n",
    "    # Lấy class được dự đoán\n",
    "    pred_class = class_names[pred.argmax()]\n",
    "    \n",
    "    # Plot ảnh và kết quả\n",
    "    plt.figure(figsize=(10, 7))\n",
    "    plt.imshow(img)\n",
    "    plt.title(f\"Prediction: {pred_class}\")\n",
    "    plt.axis('off')\n",
    "    plt.show()\n",
    "    \n",
    "    # In ra probabilities cho từng class\n",
    "    for i, prob in enumerate(pred[0]):\n",
    "        print(f\"{class_names[i]}: {prob*100:.2f}%\")\n",
    "    Recommend_Songs(pred_class)"
   ]
  },
  {
   "cell_type": "code",
   "execution_count": 30,
   "id": "bb18a103",
   "metadata": {
    "_cell_guid": "771ccc2a-8916-49df-9da5-6542b5cbb620",
    "_uuid": "f834bef3-aaaf-4c22-bc7f-707f7d463528",
    "collapsed": false,
    "execution": {
     "iopub.execute_input": "2025-01-08T14:07:42.310494Z",
     "iopub.status.busy": "2025-01-08T14:07:42.309621Z",
     "iopub.status.idle": "2025-01-08T14:07:43.691484Z",
     "shell.execute_reply": "2025-01-08T14:07:43.690203Z"
    },
    "id": "Iq4tuqLccK3c",
    "jupyter": {
     "outputs_hidden": false
    },
    "outputId": "abdf1b2b-a121-4b13-be60-950fba6004c4",
    "papermill": {
     "duration": 2.359196,
     "end_time": "2025-01-08T14:07:43.695727",
     "exception": false,
     "start_time": "2025-01-08T14:07:41.336531",
     "status": "completed"
    },
    "tags": []
   },
   "outputs": [
    {
     "name": "stdout",
     "output_type": "stream",
     "text": [
      "Image shape before batch: (48, 48, 3)\n",
      "Image shape after batch: (1, 48, 48, 3)\n"
     ]
    },
    {
     "data": {
      "image/png": "[encoded data removed]",
      "text/plain": [
       "<Figure size 1000x700 with 1 Axes>"
      ]
     },
     "metadata": {},
     "output_type": "display_data"
    },
    {
     "name": "stdout",
     "output_type": "stream",
     "text": [
      "Angry: 31.40%\n",
      "Disgust: 1.65%\n",
      "Fear: 7.43%\n",
      "Happy: 5.00%\n",
      "Neutral: 40.15%\n",
      "Sad: 10.29%\n",
      "Surprise: 4.07%\n"
     ]
    },
    {
     "data": {
      "text/html": [
       "<div>\n",
       "<style scoped>\n",
       "    .dataframe tbody tr th:only-of-type {\n",
       "        vertical-align: middle;\n",
       "    }\n",
       "\n",
       "    .dataframe tbody tr th {\n",
       "        vertical-align: top;\n",
       "    }\n",
       "\n",
       "    .dataframe thead th {\n",
       "        text-align: right;\n",
       "    }\n",
       "</style>\n",
       "<table border=\"1\" class=\"dataframe\">\n",
       "  <thead>\n",
       "    <tr style=\"text-align: right;\">\n",
       "      <th></th>\n",
       "      <th>name</th>\n",
       "      <th>album</th>\n",
       "      <th>artist</th>\n",
       "      <th>id</th>\n",
       "      <th>release_date</th>\n",
       "      <th>popularity</th>\n",
       "      <th>length</th>\n",
       "      <th>danceability</th>\n",
       "      <th>acousticness</th>\n",
       "      <th>energy</th>\n",
       "      <th>instrumentalness</th>\n",
       "      <th>liveness</th>\n",
       "      <th>valence</th>\n",
       "      <th>loudness</th>\n",
       "      <th>speechiness</th>\n",
       "      <th>tempo</th>\n",
       "      <th>key</th>\n",
       "      <th>time_signature</th>\n",
       "      <th>mood</th>\n",
       "    </tr>\n",
       "  </thead>\n",
       "  <tbody>\n",
       "    <tr>\n",
       "      <th>0</th>\n",
       "      <td>Chop Suey!</td>\n",
       "      <td>Toxicity</td>\n",
       "      <td>System Of A Down</td>\n",
       "      <td>2DlHlPMa4M17kufBvI2lEN</td>\n",
       "      <td>2001-09-04</td>\n",
       "      <td>79</td>\n",
       "      <td>210240</td>\n",
       "      <td>0.419</td>\n",
       "      <td>0.000278</td>\n",
       "      <td>0.934</td>\n",
       "      <td>0.001500</td>\n",
       "      <td>0.1320</td>\n",
       "      <td>0.286</td>\n",
       "      <td>-3.908</td>\n",
       "      <td>0.1200</td>\n",
       "      <td>127.288</td>\n",
       "      <td>7</td>\n",
       "      <td>4</td>\n",
       "      <td>Energetic</td>\n",
       "    </tr>\n",
       "    <tr>\n",
       "      <th>1</th>\n",
       "      <td>Killing In The Name</td>\n",
       "      <td>Rage Against The Machine - XX (20th Anniversar...</td>\n",
       "      <td>Rage Against The Machine</td>\n",
       "      <td>59WN2psjkt1tyaxjspN8fp</td>\n",
       "      <td>1992</td>\n",
       "      <td>78</td>\n",
       "      <td>313573</td>\n",
       "      <td>0.466</td>\n",
       "      <td>0.026600</td>\n",
       "      <td>0.833</td>\n",
       "      <td>0.000000</td>\n",
       "      <td>0.0327</td>\n",
       "      <td>0.661</td>\n",
       "      <td>-4.215</td>\n",
       "      <td>0.3040</td>\n",
       "      <td>88.785</td>\n",
       "      <td>7</td>\n",
       "      <td>4</td>\n",
       "      <td>Energetic</td>\n",
       "    </tr>\n",
       "    <tr>\n",
       "      <th>2</th>\n",
       "      <td>Dani California</td>\n",
       "      <td>Stadium Arcadium</td>\n",
       "      <td>Red Hot Chili Peppers</td>\n",
       "      <td>10Nmj3JCNoMeBQ87uw5j8k</td>\n",
       "      <td>2006-05-09</td>\n",
       "      <td>77</td>\n",
       "      <td>282160</td>\n",
       "      <td>0.556</td>\n",
       "      <td>0.019300</td>\n",
       "      <td>0.913</td>\n",
       "      <td>0.000009</td>\n",
       "      <td>0.3460</td>\n",
       "      <td>0.730</td>\n",
       "      <td>-2.360</td>\n",
       "      <td>0.0437</td>\n",
       "      <td>96.184</td>\n",
       "      <td>0</td>\n",
       "      <td>4</td>\n",
       "      <td>Energetic</td>\n",
       "    </tr>\n",
       "    <tr>\n",
       "      <th>3</th>\n",
       "      <td>Duality</td>\n",
       "      <td>Vol. 3: The Subliminal Verses</td>\n",
       "      <td>Slipknot</td>\n",
       "      <td>61mWefnWQOLf90gepjOCb3</td>\n",
       "      <td>2004</td>\n",
       "      <td>76</td>\n",
       "      <td>252613</td>\n",
       "      <td>0.354</td>\n",
       "      <td>0.000237</td>\n",
       "      <td>0.982</td>\n",
       "      <td>0.000294</td>\n",
       "      <td>0.2040</td>\n",
       "      <td>0.194</td>\n",
       "      <td>-3.026</td>\n",
       "      <td>0.1680</td>\n",
       "      <td>143.772</td>\n",
       "      <td>4</td>\n",
       "      <td>4</td>\n",
       "      <td>Energetic</td>\n",
       "    </tr>\n",
       "    <tr>\n",
       "      <th>4</th>\n",
       "      <td>Uprising</td>\n",
       "      <td>The Resistance</td>\n",
       "      <td>Muse</td>\n",
       "      <td>4VqPOruhp5EdPBeR92t6lQ</td>\n",
       "      <td>2009-09-10</td>\n",
       "      <td>75</td>\n",
       "      <td>304840</td>\n",
       "      <td>0.602</td>\n",
       "      <td>0.000202</td>\n",
       "      <td>0.905</td>\n",
       "      <td>0.064000</td>\n",
       "      <td>0.1170</td>\n",
       "      <td>0.411</td>\n",
       "      <td>-4.046</td>\n",
       "      <td>0.0775</td>\n",
       "      <td>128.019</td>\n",
       "      <td>2</td>\n",
       "      <td>4</td>\n",
       "      <td>Energetic</td>\n",
       "    </tr>\n",
       "  </tbody>\n",
       "</table>\n",
       "</div>"
      ],
      "text/plain": [
       "                  name                                              album  \\\n",
       "0           Chop Suey!                                           Toxicity   \n",
       "1  Killing In The Name  Rage Against The Machine - XX (20th Anniversar...   \n",
       "2      Dani California                                   Stadium Arcadium   \n",
       "3              Duality                      Vol. 3: The Subliminal Verses   \n",
       "4             Uprising                                     The Resistance   \n",
       "\n",
       "                     artist                      id release_date  popularity  \\\n",
       "0          System Of A Down  2DlHlPMa4M17kufBvI2lEN   2001-09-04          79   \n",
       "1  Rage Against The Machine  59WN2psjkt1tyaxjspN8fp         1992          78   \n",
       "2     Red Hot Chili Peppers  10Nmj3JCNoMeBQ87uw5j8k   2006-05-09          77   \n",
       "3                  Slipknot  61mWefnWQOLf90gepjOCb3         2004          76   \n",
       "4                      Muse  4VqPOruhp5EdPBeR92t6lQ   2009-09-10          75   \n",
       "\n",
       "   length  danceability  acousticness  energy  instrumentalness  liveness  \\\n",
       "0  210240         0.419      0.000278   0.934          0.001500    0.1320   \n",
       "1  313573         0.466      0.026600   0.833          0.000000    0.0327   \n",
       "2  282160         0.556      0.019300   0.913          0.000009    0.3460   \n",
       "3  252613         0.354      0.000237   0.982          0.000294    0.2040   \n",
       "4  304840         0.602      0.000202   0.905          0.064000    0.1170   \n",
       "\n",
       "   valence  loudness  speechiness    tempo  key  time_signature       mood  \n",
       "0    0.286    -3.908       0.1200  127.288    7               4  Energetic  \n",
       "1    0.661    -4.215       0.3040   88.785    7               4  Energetic  \n",
       "2    0.730    -2.360       0.0437   96.184    0               4  Energetic  \n",
       "3    0.194    -3.026       0.1680  143.772    4               4  Energetic  \n",
       "4    0.411    -4.046       0.0775  128.019    2               4  Energetic  "
      ]
     },
     "metadata": {},
     "output_type": "display_data"
    }
   ],
   "source": [
    "pred_and_plot(\"/kaggle/input/cnntest/e5fb20e6a3fa1fa446eb.jpg\", Emotion_Classes) # with CNN"
   ]
  },
  {
   "cell_type": "code",
   "execution_count": 31,
   "id": "5ef20208",
   "metadata": {
    "_cell_guid": "f63c93b0-1b8b-48d4-8759-9a7bd92edc4d",
    "_uuid": "d727c1b7-8a46-4d59-a20a-000a096a9bda",
    "collapsed": false,
    "execution": {
     "iopub.execute_input": "2025-01-08T14:07:45.799839Z",
     "iopub.status.busy": "2025-01-08T14:07:45.799488Z",
     "iopub.status.idle": "2025-01-08T14:07:46.040021Z",
     "shell.execute_reply": "2025-01-08T14:07:46.039056Z"
    },
    "id": "L5YUzcKgg7ih",
    "jupyter": {
     "outputs_hidden": false
    },
    "papermill": {
     "duration": 1.286912,
     "end_time": "2025-01-08T14:07:46.042272",
     "exception": false,
     "start_time": "2025-01-08T14:07:44.755360",
     "status": "completed"
    },
    "tags": []
   },
   "outputs": [],
   "source": [
    "CNN_Model.save(\"CNN_Model.h5\")"
   ]
  }
 ],
 "metadata": {
  "kaggle": {
   "accelerator": "gpu",
   "dataSources": [
    {
     "datasetId": 786787,
     "sourceId": 1351797,
     "sourceType": "datasetVersion"
    },
    {
     "datasetId": 1012989,
     "sourceId": 1708668,
     "sourceType": "datasetVersion"
    },
    {
     "datasetId": 6442346,
     "sourceId": 10397452,
     "sourceType": "datasetVersion"
    },
    {
     "datasetId": 6442406,
     "sourceId": 10397531,
     "sourceType": "datasetVersion"
    }
   ],
   "dockerImageVersionId": 30302,
   "isGpuEnabled": true,
   "isInternetEnabled": true,
   "language": "python",
   "sourceType": "notebook"
  },
  "kernelspec": {
   "display_name": "Python 3",
   "language": "python",
   "name": "python3"
  },
  "language_info": {
   "codemirror_mode": {
    "name": "ipython",
    "version": 3
   },
   "file_extension": ".py",
   "mimetype": "text/x-python",
   "name": "python",
   "nbconvert_exporter": "python",
   "pygments_lexer": "ipython3",
   "version": "3.7.12"
  },
  "papermill": {
   "default_parameters": {},
   "duration": 4135.863412,
   "end_time": "2025-01-08T14:07:50.251346",
   "environment_variables": {},
   "exception": null,
   "input_path": "__notebook__.ipynb",
   "output_path": "__notebook__.ipynb",
   "parameters": {},
   "start_time": "2025-01-08T12:58:54.387934",
   "version": "2.3.4"
  }
 },
 "nbformat": 4,
 "nbformat_minor": 5
}
